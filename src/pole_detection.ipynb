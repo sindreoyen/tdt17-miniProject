{
 "cells": [
  {
   "cell_type": "markdown",
   "metadata": {},
   "source": [
    "# Road-Pole/Stick Detection on Edge Devices\n",
    "\n",
    "a research paper by Sindre L. Øyen"
   ]
  },
  {
   "cell_type": "markdown",
   "metadata": {},
   "source": [
    "---\n",
    "## 1 Introduction\n",
    "In this paper, I will investigate the feasibility of using edge devices for pole detection, applying modern solutions for Visual Intelligence (VI). First, the data preparation phase will be explained, where the data set is visualized and discussed. Second, the model selection phase will be documented, discussing available options weighing them against one another based on performance and accuracy. Third, a model will be trained on the dataset and monitored based on performance metrics. Hence, three final sections will document (1) the testing and evaluation phase based on relevant metrics, (2) the deployment feasibility of the model on e.g., an edge device, and (3) the sustainability of the training and inference of the developed model will be discussed with examples and comparisons of energy consumption.\n",
    "\n",
    "Road poles, commonly referred to as \"brøytestikker\" in Norwegian, are central in navigation guidance during the winter - especially for giving guidance to plowers as to where the road edge is positioned on overly snowy roads. Recently, in the realm of Cooperative, Connected and Automated Mobility (CCAM) (i.e., self-driving vehicles) research, studies investigate the feasibility of using VI technology to detect road poles and more efficiently navigate Norwegian roads under diverse conditions. Thus, road poles may have an ever-growing importance in the Norwegian infrastructure and the dataset collection which on the larger scale is the motivation of this research paper.\n",
    "\n",
    "The end goal is to produce an accurate model that has the potential to be ran with real-time inference on a hardware-restricted edge-device, such as a smartphone."
   ]
  },
  {
   "cell_type": "markdown",
   "metadata": {},
   "source": [
    "---\n",
    "## 2 Data preparation\n"
   ]
  },
  {
   "cell_type": "markdown",
   "metadata": {},
   "source": [
    "### 2.1 NAPLab LiDAR Image Dataset\n",
    "\n",
    "NAPLab has collected and annotated a dataset of LiDAR images of poles which has been made available for this project. As mentioned in the repository README, this dataset is unavailable for redistribution. However, with access to the NTNU Idun cluster the dataset is made found under `/cluster/projects/vc/data/ad/open/Poles`. "
   ]
  },
  {
   "cell_type": "markdown",
   "metadata": {},
   "source": [
    "#### 2.1.1 Discussion of the NAPLab Dataset\n",
    "\n",
    "The dataset contains annotated data with one class as the basis for detection, namely `pole`, which refers to a road pole. While writing this paper, the dataset comprises a total of 2 259 images, divided into a train and a validation split of 1 809 and 450 images, respectively. In the figure below, an example image from the dataset is linked. The dataset has a total of 4 230 annotations, with an average of 1.9 annotations per image; indicating the expected result that road poles come in pairs, with some exceptions. The images are of median image ratio `1024 x 128` and are thus of an ultra-wide format. The training dataset contains 3 378 annotations and the validation dataset contains 852. Currently, no test set is present.\n",
    "\n",
    "<img src=\"assets/roadpoles_example.png\" alt=\"An example of an entry in the dataset\" width=\"1000\"/>\n",
    "\n",
    "###### © NAPLab \n",
    "\n",
    "Notably, as aforementioned and as visible in the example, the dataset is based on LiDAR images of poles. On one side, this reduces the feasibility of a potential result being used on e.g., a smartphone and increments the hardware cost for real-time inference. Modern smartphones such as the newer iPhone Pro and Pro Max models do have LiDAR sensors but with a limited reach of around 5 meters On the other side, LiDAR images, while being costly, are more available in the varying lighting conditions found in Norway. Nonetheless, the exploration in this project will be based on the LiDAR images in this dataset, evaluated on the potential performance on a hypothetical hardware-restrained edge device."
   ]
  },
  {
   "cell_type": "markdown",
   "metadata": {},
   "source": [
    "#### 2.1.2 The Train/Val Split in this Paper\n",
    "\n",
    "Seeing that the dataset does not comprise a test dataset, the training dataset will be utilized to create a new train/validation split. The original validation dataset will be used for comparing the end result to other solutions, effectively acting as the test dataset."
   ]
  },
  {
   "cell_type": "markdown",
   "metadata": {},
   "source": [
    "#### 2.1.3 Bibtex Reference to the Dataset\n",
    "\n",
    "```biblatex\n",
    "    @misc{\n",
    "        polpolpol-pol-det_dataset,\n",
    "        title = { polpolpol pol det Dataset },\n",
    "        type = { Open Source Dataset },\n",
    "        author = { DURGA PRASAD },\n",
    "        howpublished = { \\url{ https://universe.roboflow.com/durga-prasad-hmjq7/polpolpol-pol-det } },\n",
    "        url = { https://universe.roboflow.com/durga-prasad-hmjq7/polpolpol-pol-det },\n",
    "        journal = { Roboflow Universe },\n",
    "        publisher = { Roboflow },\n",
    "        year = { 2024 },\n",
    "        month = { oct },\n",
    "        note = { visited on 2024-11-23 },\n",
    "    }\n",
    "```"
   ]
  },
  {
   "cell_type": "markdown",
   "metadata": {},
   "source": [
    "---\n",
    "## 3 Model Selection"
   ]
  },
  {
   "cell_type": "markdown",
   "metadata": {},
   "source": [
    "As the end goal is to produce an accurate model that can be performant for real-time inference on a hardware-restricted edge device, the goal is to use a lightweight model. In my previous exploratory study in the TDT17 Visual Intelligence course, I stipulated the following comparative overview of performance metrics of lightweight Object Detection (OD) models:\n",
    "\n",
    "<img src=\"assets/yolo-comparison.png\" alt=\"A comparison between YOLO models and EfficientDet\" width=\"1000\"/>"
   ]
  },
  {
   "cell_type": "markdown",
   "metadata": {},
   "source": [
    "###### Overview by Sindre Øyen, based on data from Ultralytics and EfficientDet (Google)"
   ]
  },
  {
   "cell_type": "markdown",
   "metadata": {},
   "source": [
    "The table above highlights the performance of different real-time Object Detection (OD) models on the Microsoft Common Objects in Context (COCO) dataset, which often serves as a benchmark for evaluating OD models. EfficientDet-D1 has low computational requirements while maintaining reasonable accuracy, with a reasonable precision-to-computation for edge-device deployment. However, its accuracy (mAP) is only slightly better than the smallest YOLO model, YOLO11n. For tasks requiring higher precision, EfficientDet models have rapidly increasing computational needs for the larger models (e.g., EfficientDet-D2, D3), effectively making EfficientDet less ideal for edge-device deployment.\n",
    "\n",
    "On the other side, the YOLO11 series has a slower increase in computational demands for increased model size. Among the lightweight models, YOLO11s represents the best precision-to-computation trade-off - with superior precision to e.g., the EfficientDet-D3 model with 14% less floating point operations per second (FLOPs). Moreover, the YOLO11 series is specifically designed for real-time usage, with optimized inference speeds that are essential for edge deployment. YOLO11s, in particular, has both a compact model architecture and a solid detection performance and is thus a good starting point for this project, focusing on achieving reliable, real-time pole detection on edge-devices.\n",
    "\n",
    "In summary, the hypothesis is that YOLO11s will deliver the best precision-to-efficiency ratio for this use case, emphasizing effective detection of road poles while also considering compatibility with the computational limits of edge-devices. Further exploration may refine this initial choice of model, but YOLO11s proves a strong foundation based on benchmarked results and architectural requirements."
   ]
  },
  {
   "cell_type": "markdown",
   "metadata": {},
   "source": [
    "---\n",
    "## 4 Training"
   ]
  },
  {
   "cell_type": "markdown",
   "metadata": {},
   "source": [
    "### 4.1 Train / Val Split\n",
    "\n",
    "As mentioned earlier in the paper, the dataset does not contain test data - only a training / validation split. To support testing for comparing with other solutions, I will be creating a new training / validation split from the training dataset, leaving the current validation dataset untouched to be used for training. \n",
    "\n",
    "Since the project will be focusing on YOLO11 models, I have downloaded the dataset with YOLO11 supported annotations. To reproduce, download YOLO11 data and place it under `data/PolesYOLO11`."
   ]
  },
  {
   "cell_type": "markdown",
   "metadata": {},
   "source": [
    "In the following code block, I am referencing the folders containing the data from the dataset."
   ]
  },
  {
   "cell_type": "code",
   "execution_count": 1,
   "metadata": {},
   "outputs": [],
   "source": [
    "import os\n",
    "\n",
    "# Data folder\n",
    "__poles_dataset_name = \"PolesYOLO11\"\n",
    "__base_dataset_path = os.path.join(\"..\", \"data\", __poles_dataset_name)\n",
    "\n",
    "# Current train/val\n",
    "current_train = os.path.join(__base_dataset_path, \"train\")\n",
    "current_val = os.path.join(__base_dataset_path, \"valid\")"
   ]
  },
  {
   "cell_type": "markdown",
   "metadata": {},
   "source": [
    "As stated, a new dataset train/val/test split must also be created. The code block below generates a new train/test/val split. Here, I am making the assumption that strategizing the split is not necessary since there is only one class and the images seem to be similar by nature. Moreover, I am selecting a 80/20 split between training and validation data."
   ]
  },
  {
   "cell_type": "code",
   "execution_count": 2,
   "metadata": {},
   "outputs": [],
   "source": [
    "# Path to the new dataset\n",
    "revised_dataset_path = os.path.join(\"..\", \"data\", \"RevisedPolesY11\")\n",
    "\n",
    "# New train/val\n",
    "new_train = os.path.join(revised_dataset_path, \"train\")\n",
    "new_val = os.path.join(revised_dataset_path, \"valid\")\n",
    "new_test = os.path.join(revised_dataset_path, \"test\")"
   ]
  },
  {
   "cell_type": "markdown",
   "metadata": {},
   "source": [
    "```python\n",
    "# Create the new dataset folder\n",
    "os.makedirs(revised_dataset_path, exist_ok=True)\n",
    "os.makedirs(new_train, exist_ok=True)\n",
    "os.makedirs(new_val, exist_ok=True)\n",
    "os.makedirs(new_test, exist_ok=True)\n",
    "\n",
    "# Copy the files from current val to new test\n",
    "os.system(f\"cp -r {current_val}/* {new_test}/\")\n",
    "\n",
    "# Create a 80/20 split from the current train to the new train and new val\n",
    "current_train_images = os.path.join(current_train, \"images\")\n",
    "current_train_labels = os.path.join(current_train, \"labels\")\n",
    "\n",
    "# Get the list of images\n",
    "images = os.listdir(current_train_images)\n",
    "\n",
    "# Split the images\n",
    "split = int(len(images) * 0.8)\n",
    "train_images = images[:split]\n",
    "val_images = images[split:]\n",
    "\n",
    "# Copy the images\n",
    "for image in train_images:\n",
    "    os.system(f\"cp {os.path.join(current_train_images, image)} {os.path.join(new_train, 'images', image)}\")\n",
    "    os.system(f\"cp {os.path.join(current_train_labels, image.replace('.jpg', '.txt'))} {os.path.join(new_train, 'labels', image.replace('.jpg', '.txt'))}\")\n",
    "\n",
    "for image in val_images:\n",
    "    os.system(f\"cp {os.path.join(current_train_images, image)} {os.path.join(new_val, 'images', image)}\")\n",
    "    os.system(f\"cp {os.path.join(current_train_labels, image.replace('.jpg', '.txt'))} {os.path.join(new_val, 'labels', image.replace('.jpg', '.txt'))}\")\n",
    "\n",
    "print(\"New train/val/test dataset created!\")\n",
    "```"
   ]
  },
  {
   "cell_type": "markdown",
   "metadata": {},
   "source": [
    "### 4.2 Training the Model"
   ]
  },
  {
   "cell_type": "markdown",
   "metadata": {},
   "source": [
    "#### 4.2.1 Data Augmentation"
   ]
  },
  {
   "cell_type": "markdown",
   "metadata": {},
   "source": [
    "The Ultralytics [python package](https://pypi.org/project/ultralytics/) is used to train the model. This code is extracted into `train_model.py` to ensure readability for the notebook. However, the reflections around the choices and the results will still be documented in this notebook."
   ]
  },
  {
   "cell_type": "markdown",
   "metadata": {},
   "source": [
    "Training is straight forward and is thoroughly documented in the [ultralytics training docs](https://docs.ultralytics.com/modes/train/). For more specialized training, ultralytics also supports data augmentation. Drawing inspiration from [0] where data augmentations s.a., shear, grayscale conversion, and adjustments in hue, saturation, brightness, was used to strengthen the model's robustness - this training also uses data augmentation to improve the final result. This augmentation was implemented with the following initial reflections:\n",
    "\n",
    "- The lidar images are not grayscale, meaning photometric transformations like hue, saturation, and brightness adjustments are relevant for simulating diverse environmental conditions.\n",
    "- Poles have a consistent geometric structure, so geometric augmentations like small rotations and translations may enhance robustness without introducing unrealistic distortions.\n",
    "- Mosaic augmentation can add contextual richness, which can be valuable for single-class datasets, and label smoothing regularizes the model to further prevent overfitting."
   ]
  },
  {
   "cell_type": "markdown",
   "metadata": {},
   "source": [
    "The augmentations that were selected are argued for, and discussed, in the table below. These were selected, based on inspirations from [0] and the initial reflections. Label smoothing\n",
    "\n",
    "| **Category**               | **Augmentation**          | **Parameter & Value** | **Explanation**                                                                                                                                                           |\n",
    "|----------------------------|--------------------------|-----------------------|-----------------------------------------------------------------------------------------------------------------------------------------------------------------------|\n",
    "| **Geometric Transformations** | **Rotation**             | `degrees=2.0`         | Slight rotations to account for variations in camera or lidar angles. Keeps the poles' vertical orientation without introducing distortions.                            |\n",
    "|                            | **Scaling**              | `scale=0.4`           | Scales images by ±40% to simulate poles at different distances from the lidar sensor, ensuring robustness to size variations.                                           |\n",
    "|                            | **Translation**          | `translate=0.1`       | Translates images by ±10% to account for positional shifts caused by sensor placement or road alignment.                                                                |\n",
    "|                            | **Shearing**             | `shear=2.0`           | Minimal shearing to simulate perspective changes while preserving pole geometry.                                                                                        |\n",
    "| **Photometric Transformations** | **Hue Adjustment**       | `hsv_h=0.015`         | Adjusts hue slightly (±1.5%) to reflect environmental lighting changes that may alter the color properties of lidar data.                                               |\n",
    "|                            | **Saturation Adjustment** | `hsv_s=0.5`           | Modulates saturation by ±50% to account for intensity variations caused by different surface materials or weather conditions.                                           |\n",
    "|                            | **Brightness Adjustment** | `hsv_v=0.4`           | Adjusts brightness by ±40% to simulate reflectance intensity differences in diverse lighting conditions, such as overcast or sunny environments.                        |\n",
    "| **Advanced Augmentation**  | **Mosaic Augmentation**   | `mosaic=1.0`          | Combines multiple images into one, creating new spatial contexts and increasing variability. Useful for single-class datasets with limited positional diversity.         |\n",
    "|                            | **Label Smoothing**       | `label_smoothing=0.05`| Applies a 5% smoothing factor to prevent overconfidence in predictions, reducing overfitting in single-class datasets like this one.                                     |\n"
   ]
  },
  {
   "cell_type": "markdown",
   "metadata": {},
   "source": [
    "###### **Disclaimer**: the above augmentations are a result of trial and error, as well as documentation reading. The overview layout was created with ChatGPT."
   ]
  },
  {
   "cell_type": "markdown",
   "metadata": {},
   "source": [
    "Several models were trained in this experimental approach. All of them continuing on pre-trained weights downloaded from Ultralytics, as their recommendations are to train on pre-trained weights. The results are evaluated in Section 5, below."
   ]
  },
  {
   "cell_type": "markdown",
   "metadata": {},
   "source": [
    "---\n",
    "\n",
    "## 5 Testing and Evaluation"
   ]
  },
  {
   "cell_type": "code",
   "execution_count": 3,
   "metadata": {},
   "outputs": [],
   "source": [
    "from ultralytics import YOLO"
   ]
  },
  {
   "cell_type": "markdown",
   "metadata": {},
   "source": [
    "### 5.1 Evaluating on the Original Valid Data"
   ]
  },
  {
   "cell_type": "markdown",
   "metadata": {},
   "source": [
    "As mentioned before, the models trained for this task are to be evaluated on the validation data from the original dataset. The findings presented in this section are the weights with the best accuracy from the trainings.\n",
    "\n",
    "Below, validation is ran with `.val` from the Ultralytics python package:"
   ]
  },
  {
   "cell_type": "markdown",
   "metadata": {},
   "source": [
    "#### 5.1.1 Running Validation"
   ]
  },
  {
   "cell_type": "code",
   "execution_count": 4,
   "metadata": {},
   "outputs": [
    {
     "name": "stdout",
     "output_type": "stream",
     "text": [
      "Ultralytics 8.3.36 🚀 Python-3.9.18 torch-2.5.1+cu124 CUDA:0 (Tesla V100-PCIE-32GB, 32494MiB)\n",
      "YOLO11s summary (fused): 238 layers, 9,413,187 parameters, 0 gradients, 21.3 GFLOPs\n"
     ]
    },
    {
     "name": "stderr",
     "output_type": "stream",
     "text": [
      "\u001b[34m\u001b[1mval: \u001b[0mScanning /cluster/home/sindroye/tdt17-miniProject/data/RevisedPolesY11/test/labels.cache... 450 images, 0 backgrounds, 0 corrupt: 100%|██████████| 450/450 [00:00<?, ?it/s]\n",
      "                 Class     Images  Instances      Box(P          R      mAP50  mAP50-95): 100%|██████████| 29/29 [00:20<00:00,  1.43it/s]\n"
     ]
    },
    {
     "name": "stdout",
     "output_type": "stream",
     "text": [
      "                   all        450        900      0.892      0.811      0.876      0.451\n",
      "Speed: 0.5ms preprocess, 3.4ms inference, 0.0ms loss, 9.9ms postprocess per image\n",
      "Results saved to \u001b[1m/cluster/home/sindroye/tdt17-miniProject/runs/detect/val9\u001b[0m\n"
     ]
    }
   ],
   "source": [
    "__best = os.path.join(\"..\", \"models\", \"pole_models\", f\"best_409mAP\", \"weights\", \"best.pt\")\n",
    "model = YOLO(__best)\n",
    "\n",
    "# Predict the first image and display the result\n",
    "# Predict bounding boxes and get results\n",
    "metrics = model.val(data=\"test.yaml\", imgsz=1024, batch=16, iou=0.6, conf=0.25)"
   ]
  },
  {
   "cell_type": "code",
   "execution_count": 7,
   "metadata": {},
   "outputs": [
    {
     "name": "stdout",
     "output_type": "stream",
     "text": [
      "mAP: 0.4510548937830866, mAP50: 0.876287641942212, mAP75: 0.3932007286396942\n"
     ]
    }
   ],
   "source": [
    "mAP = metrics.box.map  # mAP\n",
    "mAP75 = metrics.box.map75  # map75\n",
    "mAP50 = metrics.box.map50  # map50\n",
    "\n",
    "print(f\"mAP: {mAP}, mAP50: {mAP50}, mAP75: {mAP75}\")"
   ]
  },
  {
   "cell_type": "markdown",
   "metadata": {},
   "source": [
    "#### 5.1.2 Understanding the Results"
   ]
  },
  {
   "cell_type": "markdown",
   "metadata": {},
   "source": [
    "The resulting weights achieves a mAP50-95 precision of ≈45%, with a recall of 0.807. The architecture of the final model consists of:\n",
    "\n",
    "- 238 layers\n",
    "- 9,41M params\n",
    "- 21.3 GFLOPs\n",
    "\n",
    "In terms of architecture, these are expected results and align well with YOLO11s parameter numbers and FLOPs. The performance and precision can be better illustrated through the resulting graphs."
   ]
  },
  {
   "cell_type": "code",
   "execution_count": null,
   "metadata": {},
   "outputs": [
    {
     "name": "stdout",
     "output_type": "stream",
     "text": [
      "\n",
      "image 1/450 /cluster/home/sindroye/tdt17-miniProject/src/../data/RevisedPolesY11/test/images/Image00484_rgb_png.rf.c0bf400a339d3e7a8f513beac2d88820.jpg: 128x1024 1 pole, 2.6ms\n",
      "image 2/450 /cluster/home/sindroye/tdt17-miniProject/src/../data/RevisedPolesY11/test/images/Image00486_rgb_png.rf.3f0a783a26091b0efb052323f801a6ff.jpg: 128x1024 2 poles, 2.6ms\n",
      "image 3/450 /cluster/home/sindroye/tdt17-miniProject/src/../data/RevisedPolesY11/test/images/Image00488_rgb_png.rf.ded5a4deda344abfa4e3942cc80d2f43.jpg: 128x1024 1 pole, 2.6ms\n",
      "image 4/450 /cluster/home/sindroye/tdt17-miniProject/src/../data/RevisedPolesY11/test/images/Image00504_rgb_png.rf.f38a3c8edfb01fec6d2f746932100585.jpg: 128x1024 3 poles, 2.6ms\n",
      "image 5/450 /cluster/home/sindroye/tdt17-miniProject/src/../data/RevisedPolesY11/test/images/Image00505_rgb_png.rf.740d4636d1bc54bd1836bdfc3298327e.jpg: 128x1024 4 poles, 2.6ms\n",
      "image 6/450 /cluster/home/sindroye/tdt17-miniProject/src/../data/RevisedPolesY11/test/images/Image00509_rgb_png.rf.0023d73e44e8833044c32a60a5d4a7d6.jpg: 128x1024 3 poles, 2.6ms\n",
      "image 7/450 /cluster/home/sindroye/tdt17-miniProject/src/../data/RevisedPolesY11/test/images/Image00518_rgb_png.rf.11c4896de8e9977c4a9dbb27f3fb46a0.jpg: 128x1024 2 poles, 2.6ms\n",
      "image 8/450 /cluster/home/sindroye/tdt17-miniProject/src/../data/RevisedPolesY11/test/images/Image00522_rgb_png.rf.ac9577a27a4231df83b6cb1efae3d004.jpg: 128x1024 2 poles, 2.6ms\n",
      "image 9/450 /cluster/home/sindroye/tdt17-miniProject/src/../data/RevisedPolesY11/test/images/Image00525_rgb_png.rf.15ad7c740accd84b2ac2018f140ebafc.jpg: 128x1024 2 poles, 2.6ms\n",
      "image 10/450 /cluster/home/sindroye/tdt17-miniProject/src/../data/RevisedPolesY11/test/images/Image00527_rgb_png.rf.9eac420edaa942c76885e07734324b89.jpg: 128x1024 2 poles, 2.6ms\n",
      "image 11/450 /cluster/home/sindroye/tdt17-miniProject/src/../data/RevisedPolesY11/test/images/Image00533_rgb_png.rf.fd58a86720d41937af259a9026349fe3.jpg: 128x1024 2 poles, 2.6ms\n",
      "image 12/450 /cluster/home/sindroye/tdt17-miniProject/src/../data/RevisedPolesY11/test/images/Image00535_rgb_png.rf.e9531491c376744b1558221fd269e71a.jpg: 128x1024 1 pole, 2.6ms\n",
      "image 13/450 /cluster/home/sindroye/tdt17-miniProject/src/../data/RevisedPolesY11/test/images/Image00545_rgb_png.rf.e4c54443b36188cc063edb2fde4df53d.jpg: 128x1024 2 poles, 2.6ms\n",
      "image 14/450 /cluster/home/sindroye/tdt17-miniProject/src/../data/RevisedPolesY11/test/images/Image00546_rgb_png.rf.0ea8dbf9607bbc87fffe7b6dd0f7501e.jpg: 128x1024 1 pole, 2.6ms\n",
      "image 15/450 /cluster/home/sindroye/tdt17-miniProject/src/../data/RevisedPolesY11/test/images/Image00562_rgb_png.rf.1dad017ab6e9a36d91d0e82c3db74ae7.jpg: 128x1024 1 pole, 2.6ms\n",
      "image 16/450 /cluster/home/sindroye/tdt17-miniProject/src/../data/RevisedPolesY11/test/images/Image00568_rgb_png.rf.e6f26e90b9b680de1fbf43110bce89b5.jpg: 128x1024 1 pole, 2.6ms\n",
      "image 17/450 /cluster/home/sindroye/tdt17-miniProject/src/../data/RevisedPolesY11/test/images/Image00573_rgb_png.rf.120d1cae029c1049a459e79d0ca3af9f.jpg: 128x1024 1 pole, 2.2ms\n",
      "image 18/450 /cluster/home/sindroye/tdt17-miniProject/src/../data/RevisedPolesY11/test/images/Image00582_rgb_png.rf.9362be62a7edf91f5031b25c17fd6886.jpg: 128x1024 2 poles, 2.2ms\n",
      "image 19/450 /cluster/home/sindroye/tdt17-miniProject/src/../data/RevisedPolesY11/test/images/Image00593_rgb_png.rf.31aa9864466ece745f66518148c52d25.jpg: 128x1024 3 poles, 2.2ms\n",
      "image 20/450 /cluster/home/sindroye/tdt17-miniProject/src/../data/RevisedPolesY11/test/images/Image00594_rgb_png.rf.9596940b4a3e04bc62a875ca9b14c611.jpg: 128x1024 2 poles, 2.2ms\n",
      "image 21/450 /cluster/home/sindroye/tdt17-miniProject/src/../data/RevisedPolesY11/test/images/Image00614_rgb_png.rf.448da67dcbdac417c1cd31f165166aa9.jpg: 128x1024 2 poles, 2.2ms\n",
      "image 22/450 /cluster/home/sindroye/tdt17-miniProject/src/../data/RevisedPolesY11/test/images/Image00617_rgb_png.rf.338341fb58f800e19605cdc9dfb82fab.jpg: 128x1024 3 poles, 2.2ms\n",
      "image 23/450 /cluster/home/sindroye/tdt17-miniProject/src/../data/RevisedPolesY11/test/images/Image00632_rgb_png.rf.e81585308ac7f0bf11533b4ce63957ee.jpg: 128x1024 2 poles, 2.2ms\n",
      "image 24/450 /cluster/home/sindroye/tdt17-miniProject/src/../data/RevisedPolesY11/test/images/Image00633_rgb_png.rf.6ed35c605b06c9dcc843d383ff649fed.jpg: 128x1024 3 poles, 2.2ms\n",
      "image 25/450 /cluster/home/sindroye/tdt17-miniProject/src/../data/RevisedPolesY11/test/images/Image00657_rgb_png.rf.76b6c208b41ae94e9e147fbcf08d0575.jpg: 128x1024 3 poles, 2.2ms\n",
      "image 26/450 /cluster/home/sindroye/tdt17-miniProject/src/../data/RevisedPolesY11/test/images/Image00665_rgb_png.rf.5a98d265ea54c99b5244c2a0fb2ecd56.jpg: 128x1024 2 poles, 2.2ms\n",
      "image 27/450 /cluster/home/sindroye/tdt17-miniProject/src/../data/RevisedPolesY11/test/images/Image00687_rgb_png.rf.d623bf521414cdc88eb7bb61deac337c.jpg: 128x1024 3 poles, 2.2ms\n",
      "image 28/450 /cluster/home/sindroye/tdt17-miniProject/src/../data/RevisedPolesY11/test/images/Image00690_rgb_png.rf.91980b77892a6aba8c137db4eadcd517.jpg: 128x1024 3 poles, 2.2ms\n",
      "image 29/450 /cluster/home/sindroye/tdt17-miniProject/src/../data/RevisedPolesY11/test/images/Image00701_rgb_png.rf.e9755ff5ac37d0c71724e020b6d14444.jpg: 128x1024 3 poles, 2.2ms\n",
      "image 30/450 /cluster/home/sindroye/tdt17-miniProject/src/../data/RevisedPolesY11/test/images/Image00708_rgb_png.rf.e5ba7ba14d70f4a2150c97f32ead0c03.jpg: 128x1024 2 poles, 2.2ms\n",
      "image 31/450 /cluster/home/sindroye/tdt17-miniProject/src/../data/RevisedPolesY11/test/images/Image00711_rgb_png.rf.c5103c8d5c09fb9725173863794537ea.jpg: 128x1024 2 poles, 2.2ms\n",
      "image 32/450 /cluster/home/sindroye/tdt17-miniProject/src/../data/RevisedPolesY11/test/images/Image00724_rgb_png.rf.3aa0f9fc2aee91d2f8cc8e8c2a05227a.jpg: 128x1024 1 pole, 2.2ms\n",
      "image 33/450 /cluster/home/sindroye/tdt17-miniProject/src/../data/RevisedPolesY11/test/images/Image00729_rgb_png.rf.2c9d56d190a55702ce648fba06e2fdb0.jpg: 128x1024 (no detections), 2.2ms\n",
      "image 34/450 /cluster/home/sindroye/tdt17-miniProject/src/../data/RevisedPolesY11/test/images/Image00746_rgb_png.rf.120ded4759f5f517ec9f2ff23b544615.jpg: 128x1024 2 poles, 2.2ms\n",
      "image 35/450 /cluster/home/sindroye/tdt17-miniProject/src/../data/RevisedPolesY11/test/images/Image00749_rgb_png.rf.d90a33194ae04c725b95aa83756f51ac.jpg: 128x1024 2 poles, 2.2ms\n",
      "image 36/450 /cluster/home/sindroye/tdt17-miniProject/src/../data/RevisedPolesY11/test/images/Image00751_rgb_png.rf.d2fb70b5336a6332c88bf1937c03afc6.jpg: 128x1024 2 poles, 2.2ms\n",
      "image 37/450 /cluster/home/sindroye/tdt17-miniProject/src/../data/RevisedPolesY11/test/images/Image00752_rgb_png.rf.da894863da424377aa1cd84e6d67f06d.jpg: 128x1024 2 poles, 2.2ms\n",
      "image 38/450 /cluster/home/sindroye/tdt17-miniProject/src/../data/RevisedPolesY11/test/images/Image00753_rgb_png.rf.705b37d0fafa43ead4ca51416e25264c.jpg: 128x1024 2 poles, 2.2ms\n",
      "image 39/450 /cluster/home/sindroye/tdt17-miniProject/src/../data/RevisedPolesY11/test/images/Image00754_rgb_png.rf.b47140e4ea1499875ed33d84c0fbea46.jpg: 128x1024 2 poles, 2.2ms\n",
      "image 40/450 /cluster/home/sindroye/tdt17-miniProject/src/../data/RevisedPolesY11/test/images/Image00756_rgb_png.rf.dfb80441a2755eac93f1c5270a1df00f.jpg: 128x1024 1 pole, 2.2ms\n",
      "image 41/450 /cluster/home/sindroye/tdt17-miniProject/src/../data/RevisedPolesY11/test/images/Image00758_rgb_png.rf.756373a9360f3fef1de582b4154326a1.jpg: 128x1024 1 pole, 2.2ms\n",
      "image 42/450 /cluster/home/sindroye/tdt17-miniProject/src/../data/RevisedPolesY11/test/images/Image00773_rgb_png.rf.9e26ea87b9c446b19f362653d0dd65aa.jpg: 128x1024 1 pole, 2.2ms\n",
      "image 43/450 /cluster/home/sindroye/tdt17-miniProject/src/../data/RevisedPolesY11/test/images/Image00796_rgb_png.rf.f5285dedfef4e0a8588cc4395fbbf2c8.jpg: 128x1024 1 pole, 2.2ms\n",
      "image 44/450 /cluster/home/sindroye/tdt17-miniProject/src/../data/RevisedPolesY11/test/images/Image00828_rgb_png.rf.18cc52a298bda62526d6405cf114ad77.jpg: 128x1024 1 pole, 2.2ms\n",
      "image 45/450 /cluster/home/sindroye/tdt17-miniProject/src/../data/RevisedPolesY11/test/images/Image00836_rgb_png.rf.3600af61299ac1d5416798e3cabc4f5f.jpg: 128x1024 2 poles, 2.2ms\n",
      "image 46/450 /cluster/home/sindroye/tdt17-miniProject/src/../data/RevisedPolesY11/test/images/Image00843_rgb_png.rf.47bc5ecfd2132bb7cf38a4e060d8d588.jpg: 128x1024 1 pole, 2.2ms\n",
      "image 47/450 /cluster/home/sindroye/tdt17-miniProject/src/../data/RevisedPolesY11/test/images/Image00844_rgb_png.rf.30e1cbfd4feb5fe678c39b4c4016c30c.jpg: 128x1024 1 pole, 2.2ms\n",
      "image 48/450 /cluster/home/sindroye/tdt17-miniProject/src/../data/RevisedPolesY11/test/images/Image00859_rgb_png.rf.6e5f6fdc37da5cc2359e1ef146defe33.jpg: 128x1024 2 poles, 2.2ms\n",
      "image 49/450 /cluster/home/sindroye/tdt17-miniProject/src/../data/RevisedPolesY11/test/images/Image00862_rgb_png.rf.bce1ceec804ee670dd2c066fccaa5a25.jpg: 128x1024 1 pole, 2.2ms\n",
      "image 50/450 /cluster/home/sindroye/tdt17-miniProject/src/../data/RevisedPolesY11/test/images/Image00892_rgb_png.rf.47c8fc4b5438c13366c9ef97075c35a1.jpg: 128x1024 1 pole, 2.2ms\n",
      "image 51/450 /cluster/home/sindroye/tdt17-miniProject/src/../data/RevisedPolesY11/test/images/Image00900_rgb_png.rf.b37548402ad8aeede396fc98a4d019c4.jpg: 128x1024 1 pole, 2.2ms\n",
      "image 52/450 /cluster/home/sindroye/tdt17-miniProject/src/../data/RevisedPolesY11/test/images/Image00911_rgb_png.rf.f63bd601f9bfccb4b2e34ea759d7aabb.jpg: 128x1024 2 poles, 2.2ms\n",
      "image 53/450 /cluster/home/sindroye/tdt17-miniProject/src/../data/RevisedPolesY11/test/images/Image00931_rgb_png.rf.1dbdb85b20061b0b91914d5858629df2.jpg: 128x1024 1 pole, 2.2ms\n",
      "image 54/450 /cluster/home/sindroye/tdt17-miniProject/src/../data/RevisedPolesY11/test/images/Image00942_rgb_png.rf.5870b89ff80d9784e2562dbadee14672.jpg: 128x1024 1 pole, 2.2ms\n",
      "image 55/450 /cluster/home/sindroye/tdt17-miniProject/src/../data/RevisedPolesY11/test/images/Image00962_rgb_png.rf.53f2604fcc60662a863d78d24e843d8f.jpg: 128x1024 1 pole, 2.2ms\n",
      "image 56/450 /cluster/home/sindroye/tdt17-miniProject/src/../data/RevisedPolesY11/test/images/Image00967_rgb_png.rf.6cda1d922159293fd65fd47ad4121c62.jpg: 128x1024 1 pole, 2.2ms\n",
      "image 57/450 /cluster/home/sindroye/tdt17-miniProject/src/../data/RevisedPolesY11/test/images/Image00968_rgb_png.rf.1db8d1640a190ea0ad418bb890431765.jpg: 128x1024 1 pole, 2.2ms\n",
      "image 58/450 /cluster/home/sindroye/tdt17-miniProject/src/../data/RevisedPolesY11/test/images/Image00969_rgb_png.rf.b33bfaf2e4994106261a280b6510e3d9.jpg: 128x1024 1 pole, 2.2ms\n",
      "image 59/450 /cluster/home/sindroye/tdt17-miniProject/src/../data/RevisedPolesY11/test/images/Image00986_rgb_png.rf.214e259a6f2a75834be9761d788d66ca.jpg: 128x1024 2 poles, 2.2ms\n",
      "image 60/450 /cluster/home/sindroye/tdt17-miniProject/src/../data/RevisedPolesY11/test/images/Image00992_rgb_png.rf.7eb1f1bb7b5886b6460c67723732dd65.jpg: 128x1024 2 poles, 2.2ms\n",
      "image 61/450 /cluster/home/sindroye/tdt17-miniProject/src/../data/RevisedPolesY11/test/images/combined_image_1004_png.rf.358a0857001a74b43299a99d06aeaa65.jpg: 128x1024 2 poles, 2.2ms\n",
      "image 62/450 /cluster/home/sindroye/tdt17-miniProject/src/../data/RevisedPolesY11/test/images/combined_image_1008_png.rf.184478f74f2202ed1dc3e07e2eb1e9f9.jpg: 128x1024 2 poles, 2.2ms\n",
      "image 63/450 /cluster/home/sindroye/tdt17-miniProject/src/../data/RevisedPolesY11/test/images/combined_image_1011_png.rf.38b83aea7c4e85230d477d08b4d902b5.jpg: 128x1024 3 poles, 2.2ms\n",
      "image 64/450 /cluster/home/sindroye/tdt17-miniProject/src/../data/RevisedPolesY11/test/images/combined_image_1027_png.rf.64bf271407ca6a345e9b5f6892d8b3a1.jpg: 128x1024 2 poles, 2.2ms\n",
      "image 65/450 /cluster/home/sindroye/tdt17-miniProject/src/../data/RevisedPolesY11/test/images/combined_image_102_png.rf.cacbb97aae63c90144b943c6b97748c4.jpg: 128x1024 2 poles, 2.2ms\n",
      "image 66/450 /cluster/home/sindroye/tdt17-miniProject/src/../data/RevisedPolesY11/test/images/combined_image_1034_png.rf.b4705b43860c689ced557da9d7df7c1f.jpg: 128x1024 2 poles, 2.2ms\n",
      "image 67/450 /cluster/home/sindroye/tdt17-miniProject/src/../data/RevisedPolesY11/test/images/combined_image_1042_png.rf.acfa7add8e52426961146ae8174a9f14.jpg: 128x1024 2 poles, 2.2ms\n",
      "image 68/450 /cluster/home/sindroye/tdt17-miniProject/src/../data/RevisedPolesY11/test/images/combined_image_1043_png.rf.aa42cbe5a33c37340f8ef37639d54482.jpg: 128x1024 2 poles, 2.2ms\n",
      "image 69/450 /cluster/home/sindroye/tdt17-miniProject/src/../data/RevisedPolesY11/test/images/combined_image_1047_png.rf.54859c7b6d483a97118ead6c9c5823c7.jpg: 128x1024 2 poles, 2.2ms\n",
      "image 70/450 /cluster/home/sindroye/tdt17-miniProject/src/../data/RevisedPolesY11/test/images/combined_image_1049_png.rf.73336a28eb5ff2a5b7ea41b08fac2f7c.jpg: 128x1024 2 poles, 2.2ms\n",
      "image 71/450 /cluster/home/sindroye/tdt17-miniProject/src/../data/RevisedPolesY11/test/images/combined_image_1051_png.rf.784149f76fc4bfa71900cdebe5bd07ab.jpg: 128x1024 1 pole, 2.2ms\n",
      "image 72/450 /cluster/home/sindroye/tdt17-miniProject/src/../data/RevisedPolesY11/test/images/combined_image_1057_png.rf.068b06224bbd6b913d7cf8816b561fab.jpg: 128x1024 2 poles, 2.2ms\n",
      "image 73/450 /cluster/home/sindroye/tdt17-miniProject/src/../data/RevisedPolesY11/test/images/combined_image_1059_png.rf.f2cf9564cb19b982eb40dff1831e7b59.jpg: 128x1024 2 poles, 2.2ms\n",
      "image 74/450 /cluster/home/sindroye/tdt17-miniProject/src/../data/RevisedPolesY11/test/images/combined_image_1062_png.rf.cd43a5b825c76e5616f6f932789e28cd.jpg: 128x1024 2 poles, 2.2ms\n",
      "image 75/450 /cluster/home/sindroye/tdt17-miniProject/src/../data/RevisedPolesY11/test/images/combined_image_1065_png.rf.a0c63baadb5c81c87e189d4dc669ae56.jpg: 128x1024 2 poles, 2.2ms\n",
      "image 76/450 /cluster/home/sindroye/tdt17-miniProject/src/../data/RevisedPolesY11/test/images/combined_image_1067_png.rf.903e168f8218ae3a4c00d6a7e6c5bfa5.jpg: 128x1024 2 poles, 2.2ms\n",
      "image 77/450 /cluster/home/sindroye/tdt17-miniProject/src/../data/RevisedPolesY11/test/images/combined_image_1072_png.rf.b3b79d3044927548817ca3929e237db1.jpg: 128x1024 1 pole, 2.2ms\n",
      "image 78/450 /cluster/home/sindroye/tdt17-miniProject/src/../data/RevisedPolesY11/test/images/combined_image_1082_png.rf.3b4063569b07bc3d12f687622eb27bc0.jpg: 128x1024 1 pole, 2.2ms\n",
      "image 79/450 /cluster/home/sindroye/tdt17-miniProject/src/../data/RevisedPolesY11/test/images/combined_image_1083_png.rf.6e67fa7c83df923d8790cae9544da45c.jpg: 128x1024 2 poles, 2.2ms\n",
      "image 80/450 /cluster/home/sindroye/tdt17-miniProject/src/../data/RevisedPolesY11/test/images/combined_image_1085_png.rf.9f37d5c81f89b49c712e1d6c5bf95f0b.jpg: 128x1024 2 poles, 2.2ms\n",
      "image 81/450 /cluster/home/sindroye/tdt17-miniProject/src/../data/RevisedPolesY11/test/images/combined_image_1090_png.rf.fbb11d5f21adbe2bba866273a2b2d08c.jpg: 128x1024 2 poles, 2.2ms\n",
      "image 82/450 /cluster/home/sindroye/tdt17-miniProject/src/../data/RevisedPolesY11/test/images/combined_image_1091_png.rf.5880ec707ca2e1d6fe060d88f7442618.jpg: 128x1024 3 poles, 2.2ms\n",
      "image 83/450 /cluster/home/sindroye/tdt17-miniProject/src/../data/RevisedPolesY11/test/images/combined_image_1095_png.rf.9dd7923c37c65ee6bff0d13e9f5c0d96.jpg: 128x1024 3 poles, 2.2ms\n",
      "image 84/450 /cluster/home/sindroye/tdt17-miniProject/src/../data/RevisedPolesY11/test/images/combined_image_1096_png.rf.f1f0fbe60e39aadcdb202942790f0211.jpg: 128x1024 2 poles, 2.2ms\n",
      "image 85/450 /cluster/home/sindroye/tdt17-miniProject/src/../data/RevisedPolesY11/test/images/combined_image_1101_png.rf.992ec6109cdff8c667b5e20b2da57132.jpg: 128x1024 2 poles, 2.2ms\n",
      "image 86/450 /cluster/home/sindroye/tdt17-miniProject/src/../data/RevisedPolesY11/test/images/combined_image_1105_png.rf.3bf0e3db6470682dc9eb2b5095562967.jpg: 128x1024 1 pole, 2.2ms\n",
      "image 87/450 /cluster/home/sindroye/tdt17-miniProject/src/../data/RevisedPolesY11/test/images/combined_image_110_png.rf.2ecb185e48190e1c666c1d3d22fa1c9f.jpg: 128x1024 2 poles, 2.2ms\n",
      "image 88/450 /cluster/home/sindroye/tdt17-miniProject/src/../data/RevisedPolesY11/test/images/combined_image_1110_png.rf.17a2c6df04a20453f8333d151308a824.jpg: 128x1024 2 poles, 2.2ms\n",
      "image 89/450 /cluster/home/sindroye/tdt17-miniProject/src/../data/RevisedPolesY11/test/images/combined_image_1112_png.rf.0ad801ad9fe8520df884b73ed8c22d82.jpg: 128x1024 2 poles, 2.2ms\n",
      "image 90/450 /cluster/home/sindroye/tdt17-miniProject/src/../data/RevisedPolesY11/test/images/combined_image_1133_png.rf.d977aee55f368f3c7b420f0a9d920878.jpg: 128x1024 2 poles, 2.2ms\n",
      "image 91/450 /cluster/home/sindroye/tdt17-miniProject/src/../data/RevisedPolesY11/test/images/combined_image_1149_png.rf.9981aca017083a6cdd639b557c33f6f1.jpg: 128x1024 2 poles, 2.2ms\n",
      "image 92/450 /cluster/home/sindroye/tdt17-miniProject/src/../data/RevisedPolesY11/test/images/combined_image_1150_png.rf.8b8c7ab8e048c97324f8e3e721f19110.jpg: 128x1024 2 poles, 2.2ms\n",
      "image 93/450 /cluster/home/sindroye/tdt17-miniProject/src/../data/RevisedPolesY11/test/images/combined_image_1153_png.rf.30cb4c4725f426f479df44b063433d08.jpg: 128x1024 2 poles, 2.2ms\n",
      "image 94/450 /cluster/home/sindroye/tdt17-miniProject/src/../data/RevisedPolesY11/test/images/combined_image_1155_png.rf.1bc0c58598c3df2adcc4420fc3d0cdbe.jpg: 128x1024 1 pole, 2.2ms\n",
      "image 95/450 /cluster/home/sindroye/tdt17-miniProject/src/../data/RevisedPolesY11/test/images/combined_image_1169_png.rf.2a21329ebde378d4a4b0fe64e16b854a.jpg: 128x1024 2 poles, 2.2ms\n",
      "image 96/450 /cluster/home/sindroye/tdt17-miniProject/src/../data/RevisedPolesY11/test/images/combined_image_1177_png.rf.8a99db83a21bbb39a5b79d0db6e03adc.jpg: 128x1024 2 poles, 2.2ms\n",
      "image 97/450 /cluster/home/sindroye/tdt17-miniProject/src/../data/RevisedPolesY11/test/images/combined_image_1178_png.rf.7b101af6e74a1f48426d55227b30f9d7.jpg: 128x1024 2 poles, 2.2ms\n",
      "image 98/450 /cluster/home/sindroye/tdt17-miniProject/src/../data/RevisedPolesY11/test/images/combined_image_1183_png.rf.14221870e5aae5e8d6210087cb899473.jpg: 128x1024 2 poles, 2.2ms\n",
      "image 99/450 /cluster/home/sindroye/tdt17-miniProject/src/../data/RevisedPolesY11/test/images/combined_image_1185_png.rf.ba4ff5f86d044c7f589d93dd58ee04ac.jpg: 128x1024 2 poles, 2.2ms\n",
      "image 100/450 /cluster/home/sindroye/tdt17-miniProject/src/../data/RevisedPolesY11/test/images/combined_image_1198_png.rf.dd57d26935ee5bf7fa87f90718d79ebc.jpg: 128x1024 2 poles, 2.2ms\n",
      "image 101/450 /cluster/home/sindroye/tdt17-miniProject/src/../data/RevisedPolesY11/test/images/combined_image_1200_png.rf.026b80b9b173299c9ab422ef3df430aa.jpg: 128x1024 3 poles, 2.2ms\n",
      "image 102/450 /cluster/home/sindroye/tdt17-miniProject/src/../data/RevisedPolesY11/test/images/combined_image_1202_png.rf.1f50c6f78e7ffd6fe7c098a24d844718.jpg: 128x1024 2 poles, 2.2ms\n",
      "image 103/450 /cluster/home/sindroye/tdt17-miniProject/src/../data/RevisedPolesY11/test/images/combined_image_1203_png.rf.9779290fdba4ad02ae99dcc375e463c6.jpg: 128x1024 2 poles, 2.2ms\n",
      "image 104/450 /cluster/home/sindroye/tdt17-miniProject/src/../data/RevisedPolesY11/test/images/combined_image_1212_png.rf.a5d287240b7d28f065b883f0ffffcebd.jpg: 128x1024 2 poles, 2.2ms\n",
      "image 105/450 /cluster/home/sindroye/tdt17-miniProject/src/../data/RevisedPolesY11/test/images/combined_image_1216_png.rf.16f36ee2d80d91e3ff53f1e44b9e5bce.jpg: 128x1024 2 poles, 2.2ms\n",
      "image 106/450 /cluster/home/sindroye/tdt17-miniProject/src/../data/RevisedPolesY11/test/images/combined_image_1220_png.rf.18afd19237ef620f40db181d15f8952c.jpg: 128x1024 2 poles, 2.2ms\n",
      "image 107/450 /cluster/home/sindroye/tdt17-miniProject/src/../data/RevisedPolesY11/test/images/combined_image_1228_png.rf.f7efb7522333831961a2a3d174d5a602.jpg: 128x1024 2 poles, 2.2ms\n",
      "image 108/450 /cluster/home/sindroye/tdt17-miniProject/src/../data/RevisedPolesY11/test/images/combined_image_1229_png.rf.523c48ce95591f0aab51b286b6cd5da5.jpg: 128x1024 2 poles, 2.2ms\n",
      "image 109/450 /cluster/home/sindroye/tdt17-miniProject/src/../data/RevisedPolesY11/test/images/combined_image_1233_png.rf.6865a97b37546beb152b22871c5505a5.jpg: 128x1024 2 poles, 2.2ms\n",
      "image 110/450 /cluster/home/sindroye/tdt17-miniProject/src/../data/RevisedPolesY11/test/images/combined_image_1239_png.rf.f1013f02669a0292702a072eef60ad9e.jpg: 128x1024 2 poles, 2.2ms\n",
      "image 111/450 /cluster/home/sindroye/tdt17-miniProject/src/../data/RevisedPolesY11/test/images/combined_image_123_png.rf.3fbff76e057b70542d6a180d44b3fb23.jpg: 128x1024 2 poles, 2.2ms\n",
      "image 112/450 /cluster/home/sindroye/tdt17-miniProject/src/../data/RevisedPolesY11/test/images/combined_image_1242_png.rf.68e3df941830a148d5111aaca5593c45.jpg: 128x1024 2 poles, 2.2ms\n",
      "image 113/450 /cluster/home/sindroye/tdt17-miniProject/src/../data/RevisedPolesY11/test/images/combined_image_1246_png.rf.c7ce22e35e44bedf21f062b404de017f.jpg: 128x1024 2 poles, 2.2ms\n",
      "image 114/450 /cluster/home/sindroye/tdt17-miniProject/src/../data/RevisedPolesY11/test/images/combined_image_1247_png.rf.0bda27107bda0eb0cd8fb779a1811db9.jpg: 128x1024 2 poles, 2.2ms\n",
      "image 115/450 /cluster/home/sindroye/tdt17-miniProject/src/../data/RevisedPolesY11/test/images/combined_image_1248_png.rf.5e426b75bdcca422adb642ef5d980900.jpg: 128x1024 2 poles, 2.2ms\n",
      "image 116/450 /cluster/home/sindroye/tdt17-miniProject/src/../data/RevisedPolesY11/test/images/combined_image_1250_png.rf.0299449f9585c93bc5442951a9965b56.jpg: 128x1024 3 poles, 2.2ms\n",
      "image 117/450 /cluster/home/sindroye/tdt17-miniProject/src/../data/RevisedPolesY11/test/images/combined_image_1252_png.rf.92cf66693bc02639c841421d79f0e105.jpg: 128x1024 2 poles, 2.2ms\n",
      "image 118/450 /cluster/home/sindroye/tdt17-miniProject/src/../data/RevisedPolesY11/test/images/combined_image_1254_png.rf.9fbd679b77dbcab7050dba45bcf065b2.jpg: 128x1024 2 poles, 2.2ms\n",
      "image 119/450 /cluster/home/sindroye/tdt17-miniProject/src/../data/RevisedPolesY11/test/images/combined_image_1257_png.rf.9955af4a3de3a88552cc635907555c1a.jpg: 128x1024 3 poles, 2.2ms\n",
      "image 120/450 /cluster/home/sindroye/tdt17-miniProject/src/../data/RevisedPolesY11/test/images/combined_image_1259_png.rf.8797f61142d330d56d4582f6d17fcbc7.jpg: 128x1024 3 poles, 2.2ms\n",
      "image 121/450 /cluster/home/sindroye/tdt17-miniProject/src/../data/RevisedPolesY11/test/images/combined_image_1260_png.rf.53ebf2dec138862ae8f275b235b77e06.jpg: 128x1024 3 poles, 2.2ms\n",
      "image 122/450 /cluster/home/sindroye/tdt17-miniProject/src/../data/RevisedPolesY11/test/images/combined_image_1267_png.rf.bc84e94031aeceb745e534410ab8221a.jpg: 128x1024 1 pole, 2.2ms\n",
      "image 123/450 /cluster/home/sindroye/tdt17-miniProject/src/../data/RevisedPolesY11/test/images/combined_image_1268_png.rf.57e40c4ede078122bef2bf554d10a00d.jpg: 128x1024 (no detections), 2.2ms\n",
      "image 124/450 /cluster/home/sindroye/tdt17-miniProject/src/../data/RevisedPolesY11/test/images/combined_image_1272_png.rf.56ffd419fa5ff223d6d77bf95c25cc0d.jpg: 128x1024 1 pole, 2.2ms\n",
      "image 125/450 /cluster/home/sindroye/tdt17-miniProject/src/../data/RevisedPolesY11/test/images/combined_image_1275_png.rf.f1d21b5eb3cbc38be4c1147b410e82e9.jpg: 128x1024 2 poles, 2.2ms\n",
      "image 126/450 /cluster/home/sindroye/tdt17-miniProject/src/../data/RevisedPolesY11/test/images/combined_image_1280_png.rf.ca977f338d7f3583199b21bf3c00b8d9.jpg: 128x1024 2 poles, 2.2ms\n",
      "image 127/450 /cluster/home/sindroye/tdt17-miniProject/src/../data/RevisedPolesY11/test/images/combined_image_1281_png.rf.9238d588d4068f11d8dcf00d292bf3ee.jpg: 128x1024 2 poles, 2.2ms\n",
      "image 128/450 /cluster/home/sindroye/tdt17-miniProject/src/../data/RevisedPolesY11/test/images/combined_image_1304_png.rf.453484b4086dfba0230d687974d4a86e.jpg: 128x1024 2 poles, 2.2ms\n",
      "image 129/450 /cluster/home/sindroye/tdt17-miniProject/src/../data/RevisedPolesY11/test/images/combined_image_1311_png.rf.998deee28e1f0ec9007a4b96a4d7ce07.jpg: 128x1024 2 poles, 2.2ms\n",
      "image 130/450 /cluster/home/sindroye/tdt17-miniProject/src/../data/RevisedPolesY11/test/images/combined_image_1316_png.rf.9ff52bdb97e3eb787fa75fa848dd2f9b.jpg: 128x1024 1 pole, 2.2ms\n",
      "image 131/450 /cluster/home/sindroye/tdt17-miniProject/src/../data/RevisedPolesY11/test/images/combined_image_1329_png.rf.3aef2954b3d10f27022b26abda535a37.jpg: 128x1024 2 poles, 2.2ms\n",
      "image 132/450 /cluster/home/sindroye/tdt17-miniProject/src/../data/RevisedPolesY11/test/images/combined_image_1340_png.rf.17c0b726fbb425e9db6fbca3a194271d.jpg: 128x1024 2 poles, 2.2ms\n",
      "image 133/450 /cluster/home/sindroye/tdt17-miniProject/src/../data/RevisedPolesY11/test/images/combined_image_1344_png.rf.6f1cda4d4b654432acb7d68e921d8871.jpg: 128x1024 2 poles, 2.2ms\n",
      "image 134/450 /cluster/home/sindroye/tdt17-miniProject/src/../data/RevisedPolesY11/test/images/combined_image_1383_png.rf.43f4e7b0822adf5f167e8faf021b5ce0.jpg: 128x1024 1 pole, 2.2ms\n",
      "image 135/450 /cluster/home/sindroye/tdt17-miniProject/src/../data/RevisedPolesY11/test/images/combined_image_1385_png.rf.29575efd264dec7b060ded7dfe6a99b3.jpg: 128x1024 1 pole, 2.2ms\n",
      "image 136/450 /cluster/home/sindroye/tdt17-miniProject/src/../data/RevisedPolesY11/test/images/combined_image_1387_png.rf.6f4db6a8ec006dd4b4d4a03b4826868a.jpg: 128x1024 2 poles, 2.2ms\n",
      "image 137/450 /cluster/home/sindroye/tdt17-miniProject/src/../data/RevisedPolesY11/test/images/combined_image_1389_png.rf.cb6ad6a67718fc82d6d690d6ffb474b9.jpg: 128x1024 1 pole, 2.2ms\n",
      "image 138/450 /cluster/home/sindroye/tdt17-miniProject/src/../data/RevisedPolesY11/test/images/combined_image_1392_png.rf.e5501aa8d04f37c29db4723e3e3f918e.jpg: 128x1024 1 pole, 2.2ms\n",
      "image 139/450 /cluster/home/sindroye/tdt17-miniProject/src/../data/RevisedPolesY11/test/images/combined_image_1393_png.rf.b047ab5a352651aad1e34b350637f8a1.jpg: 128x1024 1 pole, 2.2ms\n",
      "image 140/450 /cluster/home/sindroye/tdt17-miniProject/src/../data/RevisedPolesY11/test/images/combined_image_139_png.rf.9f1ad519fe24d1cdbb3eaaa541dd5a75.jpg: 128x1024 2 poles, 2.2ms\n",
      "image 141/450 /cluster/home/sindroye/tdt17-miniProject/src/../data/RevisedPolesY11/test/images/combined_image_13_png.rf.7390c64ced5859039424843ebf4207f9.jpg: 128x1024 3 poles, 2.2ms\n",
      "image 142/450 /cluster/home/sindroye/tdt17-miniProject/src/../data/RevisedPolesY11/test/images/combined_image_1403_png.rf.61de880c54f10616c5c010367a129361.jpg: 128x1024 1 pole, 2.2ms\n",
      "image 143/450 /cluster/home/sindroye/tdt17-miniProject/src/../data/RevisedPolesY11/test/images/combined_image_1410_png.rf.caf1764134e5e7822e659278dbc5f319.jpg: 128x1024 2 poles, 2.2ms\n",
      "image 144/450 /cluster/home/sindroye/tdt17-miniProject/src/../data/RevisedPolesY11/test/images/combined_image_1413_png.rf.a264e99359e2139667eceb3f9f8072e9.jpg: 128x1024 2 poles, 2.2ms\n",
      "image 145/450 /cluster/home/sindroye/tdt17-miniProject/src/../data/RevisedPolesY11/test/images/combined_image_1419_png.rf.71957254920c3a269d2cd009f9dfbcb2.jpg: 128x1024 2 poles, 2.2ms\n",
      "image 146/450 /cluster/home/sindroye/tdt17-miniProject/src/../data/RevisedPolesY11/test/images/combined_image_141_png.rf.75e129b09dd434835b4979081337595d.jpg: 128x1024 1 pole, 2.2ms\n",
      "image 147/450 /cluster/home/sindroye/tdt17-miniProject/src/../data/RevisedPolesY11/test/images/combined_image_1422_png.rf.c59e33e136531429e0bc09d6bc31027f.jpg: 128x1024 2 poles, 2.2ms\n",
      "image 148/450 /cluster/home/sindroye/tdt17-miniProject/src/../data/RevisedPolesY11/test/images/combined_image_1429_png.rf.c9ef9b91104abf9bcdb5655fffcaf9d6.jpg: 128x1024 4 poles, 2.2ms\n",
      "image 149/450 /cluster/home/sindroye/tdt17-miniProject/src/../data/RevisedPolesY11/test/images/combined_image_1437_png.rf.82488ce5f24f68adb5a3dc052561a74c.jpg: 128x1024 (no detections), 2.2ms\n",
      "image 150/450 /cluster/home/sindroye/tdt17-miniProject/src/../data/RevisedPolesY11/test/images/combined_image_143_png.rf.3682f1013ea92c434f5c97eec9849946.jpg: 128x1024 1 pole, 2.2ms\n",
      "image 151/450 /cluster/home/sindroye/tdt17-miniProject/src/../data/RevisedPolesY11/test/images/combined_image_1444_png.rf.e55468d463e92bf997d92fa3b2ef7a18.jpg: 128x1024 2 poles, 2.2ms\n",
      "image 152/450 /cluster/home/sindroye/tdt17-miniProject/src/../data/RevisedPolesY11/test/images/combined_image_1452_png.rf.31c8bd655513004a30fe30a85e5452bd.jpg: 128x1024 2 poles, 2.2ms\n",
      "image 153/450 /cluster/home/sindroye/tdt17-miniProject/src/../data/RevisedPolesY11/test/images/combined_image_1454_png.rf.bd6244962d1ab144ae0ba3e0013367b7.jpg: 128x1024 2 poles, 2.2ms\n",
      "image 154/450 /cluster/home/sindroye/tdt17-miniProject/src/../data/RevisedPolesY11/test/images/combined_image_1455_png.rf.e5923aa36df2b89318bf9ff671ace013.jpg: 128x1024 3 poles, 2.2ms\n",
      "image 155/450 /cluster/home/sindroye/tdt17-miniProject/src/../data/RevisedPolesY11/test/images/combined_image_1459_png.rf.024c3aba765e807edaa9fd3e6a06f2f8.jpg: 128x1024 2 poles, 2.2ms\n",
      "image 156/450 /cluster/home/sindroye/tdt17-miniProject/src/../data/RevisedPolesY11/test/images/combined_image_1462_png.rf.df180f3e1ee240288b3412b38a84a5b0.jpg: 128x1024 2 poles, 2.2ms\n",
      "image 157/450 /cluster/home/sindroye/tdt17-miniProject/src/../data/RevisedPolesY11/test/images/combined_image_146_png.rf.d400540f791c91b36356e689333d911a.jpg: 128x1024 2 poles, 2.2ms\n",
      "image 158/450 /cluster/home/sindroye/tdt17-miniProject/src/../data/RevisedPolesY11/test/images/combined_image_1471_png.rf.7cb886df02895a5fbd99c578fb61956d.jpg: 128x1024 2 poles, 2.2ms\n",
      "image 159/450 /cluster/home/sindroye/tdt17-miniProject/src/../data/RevisedPolesY11/test/images/combined_image_1473_png.rf.c0b22e8c41018ada3880562351904b01.jpg: 128x1024 3 poles, 2.2ms\n",
      "image 160/450 /cluster/home/sindroye/tdt17-miniProject/src/../data/RevisedPolesY11/test/images/combined_image_1478_png.rf.311f62df35f9be945b448617f1b38e18.jpg: 128x1024 2 poles, 2.2ms\n",
      "image 161/450 /cluster/home/sindroye/tdt17-miniProject/src/../data/RevisedPolesY11/test/images/combined_image_1491_png.rf.6c68f4c39904de822971939b9c373eeb.jpg: 128x1024 2 poles, 2.2ms\n",
      "image 162/450 /cluster/home/sindroye/tdt17-miniProject/src/../data/RevisedPolesY11/test/images/combined_image_1502_png.rf.64a23cc0c9b43aa9b541958520df208d.jpg: 128x1024 2 poles, 2.2ms\n",
      "image 163/450 /cluster/home/sindroye/tdt17-miniProject/src/../data/RevisedPolesY11/test/images/combined_image_1504_png.rf.666fdfe0e6b7b2056077f9435aee050c.jpg: 128x1024 2 poles, 2.2ms\n",
      "image 164/450 /cluster/home/sindroye/tdt17-miniProject/src/../data/RevisedPolesY11/test/images/combined_image_1509_png.rf.e4d8211f0fac248fc8bbda9713390d71.jpg: 128x1024 2 poles, 2.2ms\n",
      "image 165/450 /cluster/home/sindroye/tdt17-miniProject/src/../data/RevisedPolesY11/test/images/combined_image_150_png.rf.6cbcd636bba3649708b4dd9d8fbbadb2.jpg: 128x1024 2 poles, 2.2ms\n",
      "image 166/450 /cluster/home/sindroye/tdt17-miniProject/src/../data/RevisedPolesY11/test/images/combined_image_1523_png.rf.4b4265cf59a3c72e96cede174e106770.jpg: 128x1024 1 pole, 2.2ms\n",
      "image 167/450 /cluster/home/sindroye/tdt17-miniProject/src/../data/RevisedPolesY11/test/images/combined_image_1525_png.rf.f4894948fda289802c264307780ec429.jpg: 128x1024 1 pole, 2.2ms\n",
      "image 168/450 /cluster/home/sindroye/tdt17-miniProject/src/../data/RevisedPolesY11/test/images/combined_image_1528_png.rf.78d63eff6b6f8dba833249d768ef33ee.jpg: 128x1024 1 pole, 2.2ms\n",
      "image 169/450 /cluster/home/sindroye/tdt17-miniProject/src/../data/RevisedPolesY11/test/images/combined_image_152_png.rf.dd6e37b561bd56b24efcf543741bd23b.jpg: 128x1024 2 poles, 2.2ms\n",
      "image 170/450 /cluster/home/sindroye/tdt17-miniProject/src/../data/RevisedPolesY11/test/images/combined_image_1542_png.rf.44ed61caa62a4a9692ed1906120044f4.jpg: 128x1024 2 poles, 2.2ms\n",
      "image 171/450 /cluster/home/sindroye/tdt17-miniProject/src/../data/RevisedPolesY11/test/images/combined_image_1543_png.rf.61bd073836b317b7fd1ee11457c41d4a.jpg: 128x1024 2 poles, 2.2ms\n",
      "image 172/450 /cluster/home/sindroye/tdt17-miniProject/src/../data/RevisedPolesY11/test/images/combined_image_1544_png.rf.8c8a6493c6cfafe5d94d9b6517653915.jpg: 128x1024 2 poles, 2.2ms\n",
      "image 173/450 /cluster/home/sindroye/tdt17-miniProject/src/../data/RevisedPolesY11/test/images/combined_image_1553_png.rf.cb89cd2bee72d0c8804c5785f04de942.jpg: 128x1024 3 poles, 2.2ms\n",
      "image 174/450 /cluster/home/sindroye/tdt17-miniProject/src/../data/RevisedPolesY11/test/images/combined_image_1557_png.rf.60e4c77d283d6bb7fde16b47e6ac0fda.jpg: 128x1024 1 pole, 2.2ms\n",
      "image 175/450 /cluster/home/sindroye/tdt17-miniProject/src/../data/RevisedPolesY11/test/images/combined_image_1561_png.rf.ea6e0a73e3a7b63ea94c182470bc16a0.jpg: 128x1024 1 pole, 2.2ms\n",
      "image 176/450 /cluster/home/sindroye/tdt17-miniProject/src/../data/RevisedPolesY11/test/images/combined_image_156_png.rf.080ac8b58bd3ef0bee1cac109ef69e25.jpg: 128x1024 3 poles, 2.2ms\n",
      "image 177/450 /cluster/home/sindroye/tdt17-miniProject/src/../data/RevisedPolesY11/test/images/combined_image_1605_png.rf.dc63b1b8ab11e62d05b9fdb22628e5eb.jpg: 128x1024 4 poles, 2.2ms\n",
      "image 178/450 /cluster/home/sindroye/tdt17-miniProject/src/../data/RevisedPolesY11/test/images/combined_image_1621_png.rf.bc0219c5aa369f37bfe8b1c9e2d2a2ae.jpg: 128x1024 2 poles, 2.2ms\n",
      "image 179/450 /cluster/home/sindroye/tdt17-miniProject/src/../data/RevisedPolesY11/test/images/combined_image_1622_png.rf.7badc7967624d652443bb60a2f4164b1.jpg: 128x1024 2 poles, 2.2ms\n",
      "image 180/450 /cluster/home/sindroye/tdt17-miniProject/src/../data/RevisedPolesY11/test/images/combined_image_1631_png.rf.25b404cdaf908c6a88483b77bcdf3bac.jpg: 128x1024 2 poles, 2.2ms\n",
      "image 181/450 /cluster/home/sindroye/tdt17-miniProject/src/../data/RevisedPolesY11/test/images/combined_image_1636_png.rf.46fb55f2489b7dda10954a20a4c6b7be.jpg: 128x1024 2 poles, 2.2ms\n",
      "image 182/450 /cluster/home/sindroye/tdt17-miniProject/src/../data/RevisedPolesY11/test/images/combined_image_1637_png.rf.02c9ec0b56e8de98b768516ebeaf0b41.jpg: 128x1024 2 poles, 2.2ms\n",
      "image 183/450 /cluster/home/sindroye/tdt17-miniProject/src/../data/RevisedPolesY11/test/images/combined_image_163_png.rf.663d89b0d098b4b000c3f4166a2fb10c.jpg: 128x1024 1 pole, 2.2ms\n",
      "image 184/450 /cluster/home/sindroye/tdt17-miniProject/src/../data/RevisedPolesY11/test/images/combined_image_1640_png.rf.f3299fa0d25f42e5df190630ffe65b41.jpg: 128x1024 3 poles, 2.2ms\n",
      "image 185/450 /cluster/home/sindroye/tdt17-miniProject/src/../data/RevisedPolesY11/test/images/combined_image_1653_png.rf.63344d6b17d009b377db43b5b53cd5c1.jpg: 128x1024 3 poles, 2.2ms\n",
      "image 186/450 /cluster/home/sindroye/tdt17-miniProject/src/../data/RevisedPolesY11/test/images/combined_image_1660_png.rf.69bdaddb55c55bbf7e39dcdfc7caeb0f.jpg: 128x1024 2 poles, 2.2ms\n",
      "image 187/450 /cluster/home/sindroye/tdt17-miniProject/src/../data/RevisedPolesY11/test/images/combined_image_1664_png.rf.563bd84a8523fa5e6dcf6ca058b39db5.jpg: 128x1024 2 poles, 2.2ms\n",
      "image 188/450 /cluster/home/sindroye/tdt17-miniProject/src/../data/RevisedPolesY11/test/images/combined_image_1671_png.rf.e7be502eb36bb2c02ce556d0f547eb69.jpg: 128x1024 2 poles, 2.2ms\n",
      "image 189/450 /cluster/home/sindroye/tdt17-miniProject/src/../data/RevisedPolesY11/test/images/combined_image_1676_png.rf.15d057623b21426bd4086a7f2c2385c7.jpg: 128x1024 2 poles, 2.2ms\n",
      "image 190/450 /cluster/home/sindroye/tdt17-miniProject/src/../data/RevisedPolesY11/test/images/combined_image_1682_png.rf.5c13629bf50c47f8c458a7b5dd062f23.jpg: 128x1024 3 poles, 2.2ms\n",
      "image 191/450 /cluster/home/sindroye/tdt17-miniProject/src/../data/RevisedPolesY11/test/images/combined_image_1689_png.rf.2ebdcef896a28a158f9199e49cd44bb9.jpg: 128x1024 2 poles, 2.2ms\n",
      "image 192/450 /cluster/home/sindroye/tdt17-miniProject/src/../data/RevisedPolesY11/test/images/combined_image_1692_png.rf.6e2b238417f599e8d008624eb666d0e5.jpg: 128x1024 1 pole, 2.2ms\n",
      "image 193/450 /cluster/home/sindroye/tdt17-miniProject/src/../data/RevisedPolesY11/test/images/combined_image_1696_png.rf.3abc67f462e01f6c156efd8592a5ce5d.jpg: 128x1024 1 pole, 2.2ms\n",
      "image 194/450 /cluster/home/sindroye/tdt17-miniProject/src/../data/RevisedPolesY11/test/images/combined_image_1698_png.rf.8ddcf6185b4e7cb1637133082c5a1838.jpg: 128x1024 2 poles, 2.2ms\n",
      "image 195/450 /cluster/home/sindroye/tdt17-miniProject/src/../data/RevisedPolesY11/test/images/combined_image_16_png.rf.b2b8fb1819ec85308df0ee693cfc9701.jpg: 128x1024 2 poles, 2.2ms\n",
      "image 196/450 /cluster/home/sindroye/tdt17-miniProject/src/../data/RevisedPolesY11/test/images/combined_image_1704_png.rf.1bde8f0b0776c277de101368b92fd471.jpg: 128x1024 1 pole, 2.2ms\n",
      "image 197/450 /cluster/home/sindroye/tdt17-miniProject/src/../data/RevisedPolesY11/test/images/combined_image_1705_png.rf.e35225de35bb58cfcccf00cfadd9e3ad.jpg: 128x1024 2 poles, 2.2ms\n",
      "image 198/450 /cluster/home/sindroye/tdt17-miniProject/src/../data/RevisedPolesY11/test/images/combined_image_1709_png.rf.00c84231f2d61f4a82d52babd8526f22.jpg: 128x1024 2 poles, 2.2ms\n",
      "image 199/450 /cluster/home/sindroye/tdt17-miniProject/src/../data/RevisedPolesY11/test/images/combined_image_1710_png.rf.462a7b0eaf72e9de1587e625c475bbb3.jpg: 128x1024 3 poles, 2.2ms\n",
      "image 200/450 /cluster/home/sindroye/tdt17-miniProject/src/../data/RevisedPolesY11/test/images/combined_image_1711_png.rf.bf9c1f7fa4e46e2862eb89c77c905736.jpg: 128x1024 2 poles, 2.2ms\n",
      "image 201/450 /cluster/home/sindroye/tdt17-miniProject/src/../data/RevisedPolesY11/test/images/combined_image_1715_png.rf.58b6009a99bf42fb7e67223e377645bb.jpg: 128x1024 2 poles, 2.2ms\n",
      "image 202/450 /cluster/home/sindroye/tdt17-miniProject/src/../data/RevisedPolesY11/test/images/combined_image_1729_png.rf.7c5717dac0dee18b5f5d2e2e182d323e.jpg: 128x1024 1 pole, 2.2ms\n",
      "image 203/450 /cluster/home/sindroye/tdt17-miniProject/src/../data/RevisedPolesY11/test/images/combined_image_1740_png.rf.0f5904da0fe5f654d7e9961a22c42511.jpg: 128x1024 2 poles, 2.2ms\n",
      "image 204/450 /cluster/home/sindroye/tdt17-miniProject/src/../data/RevisedPolesY11/test/images/combined_image_1742_png.rf.49ee03cb5c43a1e9fcf3332dca949ad3.jpg: 128x1024 2 poles, 2.2ms\n",
      "image 205/450 /cluster/home/sindroye/tdt17-miniProject/src/../data/RevisedPolesY11/test/images/combined_image_1749_png.rf.c4257a8350d3c5ee091d482348eafec3.jpg: 128x1024 2 poles, 2.2ms\n",
      "image 206/450 /cluster/home/sindroye/tdt17-miniProject/src/../data/RevisedPolesY11/test/images/combined_image_174_png.rf.684a10ad9911cf7201aacfb0031d888b.jpg: 128x1024 2 poles, 2.2ms\n",
      "image 207/450 /cluster/home/sindroye/tdt17-miniProject/src/../data/RevisedPolesY11/test/images/combined_image_1766_png.rf.b70b8068b8f031625421e15364767efb.jpg: 128x1024 1 pole, 2.2ms\n",
      "image 208/450 /cluster/home/sindroye/tdt17-miniProject/src/../data/RevisedPolesY11/test/images/combined_image_1767_png.rf.04478fde4351d8568d5450e952ca7283.jpg: 128x1024 2 poles, 2.2ms\n",
      "image 209/450 /cluster/home/sindroye/tdt17-miniProject/src/../data/RevisedPolesY11/test/images/combined_image_1778_png.rf.4a3e57243e0ba0c4744da3d54651f793.jpg: 128x1024 2 poles, 2.2ms\n",
      "image 210/450 /cluster/home/sindroye/tdt17-miniProject/src/../data/RevisedPolesY11/test/images/combined_image_1780_png.rf.7e982186e174a8c8816ea90b28bdbf68.jpg: 128x1024 1 pole, 2.2ms\n",
      "image 211/450 /cluster/home/sindroye/tdt17-miniProject/src/../data/RevisedPolesY11/test/images/combined_image_1783_png.rf.c58769b0e56f63255309a51b612714bd.jpg: 128x1024 2 poles, 2.2ms\n",
      "image 212/450 /cluster/home/sindroye/tdt17-miniProject/src/../data/RevisedPolesY11/test/images/combined_image_1789_png.rf.c70a36ce4f21313a2bc5a10152d74ab1.jpg: 128x1024 2 poles, 2.2ms\n",
      "image 213/450 /cluster/home/sindroye/tdt17-miniProject/src/../data/RevisedPolesY11/test/images/combined_image_1797_png.rf.ee8ca21b7fa3e0298ce2ba903e296dc0.jpg: 128x1024 2 poles, 2.2ms\n",
      "image 214/450 /cluster/home/sindroye/tdt17-miniProject/src/../data/RevisedPolesY11/test/images/combined_image_1798_png.rf.2786abf6809d01b58680ed92357706af.jpg: 128x1024 2 poles, 2.2ms\n",
      "image 215/450 /cluster/home/sindroye/tdt17-miniProject/src/../data/RevisedPolesY11/test/images/combined_image_1806_png.rf.bea800cd871bb52b4e3cda72f2cfa8e5.jpg: 128x1024 2 poles, 2.2ms\n",
      "image 216/450 /cluster/home/sindroye/tdt17-miniProject/src/../data/RevisedPolesY11/test/images/combined_image_1811_png.rf.7be8a54d1b18e2c433b264267141adf8.jpg: 128x1024 2 poles, 2.2ms\n",
      "image 217/450 /cluster/home/sindroye/tdt17-miniProject/src/../data/RevisedPolesY11/test/images/combined_image_1817_png.rf.6a14257170e2438bc37911a170d97b31.jpg: 128x1024 1 pole, 2.2ms\n",
      "image 218/450 /cluster/home/sindroye/tdt17-miniProject/src/../data/RevisedPolesY11/test/images/combined_image_1820_png.rf.5fb995f452a93a28721e7eafefff68cd.jpg: 128x1024 2 poles, 2.2ms\n",
      "image 219/450 /cluster/home/sindroye/tdt17-miniProject/src/../data/RevisedPolesY11/test/images/combined_image_1829_png.rf.bbf0142c50f5278baeddbbc4bc9f2a65.jpg: 128x1024 1 pole, 2.2ms\n",
      "image 220/450 /cluster/home/sindroye/tdt17-miniProject/src/../data/RevisedPolesY11/test/images/combined_image_1842_png.rf.f37da9ff192de0a3294436a66875082c.jpg: 128x1024 2 poles, 2.2ms\n",
      "image 221/450 /cluster/home/sindroye/tdt17-miniProject/src/../data/RevisedPolesY11/test/images/combined_image_1843_png.rf.0852b25b34f2331d89edb9cd1efa9bc6.jpg: 128x1024 3 poles, 2.2ms\n",
      "image 222/450 /cluster/home/sindroye/tdt17-miniProject/src/../data/RevisedPolesY11/test/images/combined_image_1854_png.rf.b786441218d2eb12392a2f50c81c6b2e.jpg: 128x1024 2 poles, 2.2ms\n",
      "image 223/450 /cluster/home/sindroye/tdt17-miniProject/src/../data/RevisedPolesY11/test/images/combined_image_1858_png.rf.58335b5620480be05f47d4532ee34b16.jpg: 128x1024 1 pole, 2.2ms\n",
      "image 224/450 /cluster/home/sindroye/tdt17-miniProject/src/../data/RevisedPolesY11/test/images/combined_image_185_png.rf.acedeee259d4f50e807b46ee95003a16.jpg: 128x1024 2 poles, 2.2ms\n",
      "image 225/450 /cluster/home/sindroye/tdt17-miniProject/src/../data/RevisedPolesY11/test/images/combined_image_1862_png.rf.f85e0a56f9df6329693ba1c28f48d1fd.jpg: 128x1024 2 poles, 2.2ms\n",
      "image 226/450 /cluster/home/sindroye/tdt17-miniProject/src/../data/RevisedPolesY11/test/images/combined_image_186_png.rf.77fdb0185723d3b36d84fb4b3303652f.jpg: 128x1024 2 poles, 2.2ms\n",
      "image 227/450 /cluster/home/sindroye/tdt17-miniProject/src/../data/RevisedPolesY11/test/images/combined_image_1871_png.rf.7ff466b85f89749a648880724b268481.jpg: 128x1024 2 poles, 2.2ms\n",
      "image 228/450 /cluster/home/sindroye/tdt17-miniProject/src/../data/RevisedPolesY11/test/images/combined_image_1872_png.rf.c0eb14b8a7cf53ba6b7a05ce15ba2e8e.jpg: 128x1024 1 pole, 2.2ms\n",
      "image 229/450 /cluster/home/sindroye/tdt17-miniProject/src/../data/RevisedPolesY11/test/images/combined_image_187_png.rf.3916ed3eeec0397a625ee0f461ed9c51.jpg: 128x1024 2 poles, 2.2ms\n",
      "image 230/450 /cluster/home/sindroye/tdt17-miniProject/src/../data/RevisedPolesY11/test/images/combined_image_1897_png.rf.24e97d693888aa46558766e1eea3549c.jpg: 128x1024 1 pole, 2.2ms\n",
      "image 231/450 /cluster/home/sindroye/tdt17-miniProject/src/../data/RevisedPolesY11/test/images/combined_image_1901_png.rf.32a9287723832dc7eb0c619a2096c564.jpg: 128x1024 1 pole, 2.2ms\n",
      "image 232/450 /cluster/home/sindroye/tdt17-miniProject/src/../data/RevisedPolesY11/test/images/combined_image_1903_png.rf.7a507fd25bf76acde09e7c4608ea31de.jpg: 128x1024 1 pole, 2.2ms\n",
      "image 233/450 /cluster/home/sindroye/tdt17-miniProject/src/../data/RevisedPolesY11/test/images/combined_image_1907_png.rf.7872135652c139d927a772d0c7bc381a.jpg: 128x1024 2 poles, 2.2ms\n",
      "image 234/450 /cluster/home/sindroye/tdt17-miniProject/src/../data/RevisedPolesY11/test/images/combined_image_1908_png.rf.a2cd5a73fd5e21025bc4d787c9e4549d.jpg: 128x1024 2 poles, 2.2ms\n",
      "image 235/450 /cluster/home/sindroye/tdt17-miniProject/src/../data/RevisedPolesY11/test/images/combined_image_1913_png.rf.a97f483839a226b8b3d3fbe8630fa49b.jpg: 128x1024 2 poles, 2.2ms\n",
      "image 236/450 /cluster/home/sindroye/tdt17-miniProject/src/../data/RevisedPolesY11/test/images/combined_image_1915_png.rf.3404ba5443b01a28f689ed7e76a93944.jpg: 128x1024 1 pole, 2.2ms\n",
      "image 237/450 /cluster/home/sindroye/tdt17-miniProject/src/../data/RevisedPolesY11/test/images/combined_image_1918_png.rf.3319e1747cf8f86e3cded890877b5636.jpg: 128x1024 2 poles, 2.2ms\n",
      "image 238/450 /cluster/home/sindroye/tdt17-miniProject/src/../data/RevisedPolesY11/test/images/combined_image_191_png.rf.2b4e3ff1a264e335a50fa0f60da31bf6.jpg: 128x1024 2 poles, 2.2ms\n",
      "image 239/450 /cluster/home/sindroye/tdt17-miniProject/src/../data/RevisedPolesY11/test/images/combined_image_1924_png.rf.c851f9d9caad17a6925dfb58dd5d1271.jpg: 128x1024 2 poles, 2.2ms\n",
      "image 240/450 /cluster/home/sindroye/tdt17-miniProject/src/../data/RevisedPolesY11/test/images/combined_image_1932_png.rf.366ee6eb7148a7404e374cb002240c42.jpg: 128x1024 2 poles, 2.2ms\n",
      "image 241/450 /cluster/home/sindroye/tdt17-miniProject/src/../data/RevisedPolesY11/test/images/combined_image_1935_png.rf.435a9e5f3f602f9c0e2957fc84baed60.jpg: 128x1024 1 pole, 2.2ms\n",
      "image 242/450 /cluster/home/sindroye/tdt17-miniProject/src/../data/RevisedPolesY11/test/images/combined_image_1941_png.rf.d56d1ba3b362207d4b8b2dcca277f5cc.jpg: 128x1024 3 poles, 2.2ms\n",
      "image 243/450 /cluster/home/sindroye/tdt17-miniProject/src/../data/RevisedPolesY11/test/images/combined_image_1943_png.rf.f1f36b1a2103cbd40b34e732e4962ce5.jpg: 128x1024 3 poles, 2.2ms\n",
      "image 244/450 /cluster/home/sindroye/tdt17-miniProject/src/../data/RevisedPolesY11/test/images/combined_image_1948_png.rf.bfab3eb72a64d3c8032ef72dee5339bf.jpg: 128x1024 3 poles, 2.2ms\n",
      "image 245/450 /cluster/home/sindroye/tdt17-miniProject/src/../data/RevisedPolesY11/test/images/combined_image_1951_png.rf.831ba657eae1f87f56918774274f14a6.jpg: 128x1024 1 pole, 2.2ms\n",
      "image 246/450 /cluster/home/sindroye/tdt17-miniProject/src/../data/RevisedPolesY11/test/images/combined_image_1952_png.rf.386ffcb46a15cc9084e0713cbaa22425.jpg: 128x1024 2 poles, 2.2ms\n",
      "image 247/450 /cluster/home/sindroye/tdt17-miniProject/src/../data/RevisedPolesY11/test/images/combined_image_1956_png.rf.d2a567377c78e4c9d177e64e9e53447d.jpg: 128x1024 2 poles, 2.2ms\n",
      "image 248/450 /cluster/home/sindroye/tdt17-miniProject/src/../data/RevisedPolesY11/test/images/combined_image_1963_png.rf.f68bcbf38c7d18b588b0c025454d1d3e.jpg: 128x1024 (no detections), 2.2ms\n",
      "image 249/450 /cluster/home/sindroye/tdt17-miniProject/src/../data/RevisedPolesY11/test/images/combined_image_1980_png.rf.194b20b71494dc13e0beb6815c474808.jpg: 128x1024 2 poles, 2.2ms\n",
      "image 250/450 /cluster/home/sindroye/tdt17-miniProject/src/../data/RevisedPolesY11/test/images/combined_image_1981_png.rf.3a641ce0d242b7c8435fa43c998524f1.jpg: 128x1024 2 poles, 2.2ms\n",
      "image 251/450 /cluster/home/sindroye/tdt17-miniProject/src/../data/RevisedPolesY11/test/images/combined_image_1984_png.rf.2d5ec491aa736107c29e0acd356569aa.jpg: 128x1024 2 poles, 2.2ms\n",
      "image 252/450 /cluster/home/sindroye/tdt17-miniProject/src/../data/RevisedPolesY11/test/images/combined_image_1989_png.rf.f5daa45454c677b3c0ee4761335d9b5e.jpg: 128x1024 1 pole, 2.2ms\n",
      "image 253/450 /cluster/home/sindroye/tdt17-miniProject/src/../data/RevisedPolesY11/test/images/combined_image_198_png.rf.12d43347844e435077d81ebac2286a15.jpg: 128x1024 2 poles, 2.2ms\n",
      "image 254/450 /cluster/home/sindroye/tdt17-miniProject/src/../data/RevisedPolesY11/test/images/combined_image_1993_png.rf.68be89349361d565121124dbd67ed40c.jpg: 128x1024 1 pole, 2.2ms\n",
      "image 255/450 /cluster/home/sindroye/tdt17-miniProject/src/../data/RevisedPolesY11/test/images/combined_image_1995_png.rf.98380fc43a4de45ba5a623eae6047640.jpg: 128x1024 3 poles, 2.2ms\n",
      "image 256/450 /cluster/home/sindroye/tdt17-miniProject/src/../data/RevisedPolesY11/test/images/combined_image_199_png.rf.eb2a25a1fc72c516034608d7a53777c9.jpg: 128x1024 1 pole, 2.2ms\n",
      "image 257/450 /cluster/home/sindroye/tdt17-miniProject/src/../data/RevisedPolesY11/test/images/combined_image_2001_png.rf.c9009d12bca807b735e986129fda6bd5.jpg: 128x1024 3 poles, 2.2ms\n",
      "image 258/450 /cluster/home/sindroye/tdt17-miniProject/src/../data/RevisedPolesY11/test/images/combined_image_2010_png.rf.aebadf16c2271078c2cedae55914fc69.jpg: 128x1024 2 poles, 2.2ms\n",
      "image 259/450 /cluster/home/sindroye/tdt17-miniProject/src/../data/RevisedPolesY11/test/images/combined_image_2022_png.rf.975b20285c679f266c539708675ffa25.jpg: 128x1024 1 pole, 2.2ms\n",
      "image 260/450 /cluster/home/sindroye/tdt17-miniProject/src/../data/RevisedPolesY11/test/images/combined_image_2025_png.rf.335fef8769e09c782e32f96094d3eb79.jpg: 128x1024 1 pole, 2.2ms\n",
      "image 261/450 /cluster/home/sindroye/tdt17-miniProject/src/../data/RevisedPolesY11/test/images/combined_image_2028_png.rf.f15a9151e3e4a3e4d6b052bad6f5db71.jpg: 128x1024 3 poles, 2.2ms\n",
      "image 262/450 /cluster/home/sindroye/tdt17-miniProject/src/../data/RevisedPolesY11/test/images/combined_image_2029_png.rf.aa9ef15fb94cbd2f32d1f17e9c5843fb.jpg: 128x1024 3 poles, 2.2ms\n",
      "image 263/450 /cluster/home/sindroye/tdt17-miniProject/src/../data/RevisedPolesY11/test/images/combined_image_202_png.rf.85fef483e9d17bb29a009e92eeabe440.jpg: 128x1024 3 poles, 2.2ms\n",
      "image 264/450 /cluster/home/sindroye/tdt17-miniProject/src/../data/RevisedPolesY11/test/images/combined_image_2032_png.rf.0fc5bf08129e20a3472de223045cedc8.jpg: 128x1024 1 pole, 2.2ms\n",
      "image 265/450 /cluster/home/sindroye/tdt17-miniProject/src/../data/RevisedPolesY11/test/images/combined_image_2034_png.rf.d1ab6f6e2094ef95c6133d5b73d8f37d.jpg: 128x1024 2 poles, 2.2ms\n",
      "image 266/450 /cluster/home/sindroye/tdt17-miniProject/src/../data/RevisedPolesY11/test/images/combined_image_2037_png.rf.058ea57f9722ab657f3bd354eed30166.jpg: 128x1024 2 poles, 2.2ms\n",
      "image 267/450 /cluster/home/sindroye/tdt17-miniProject/src/../data/RevisedPolesY11/test/images/combined_image_2038_png.rf.26eb641c2f78dff477a1b19eecd27b66.jpg: 128x1024 2 poles, 2.2ms\n",
      "image 268/450 /cluster/home/sindroye/tdt17-miniProject/src/../data/RevisedPolesY11/test/images/combined_image_2040_png.rf.25e5bf9c641d00e4cac0d131bf145a7e.jpg: 128x1024 2 poles, 2.2ms\n",
      "image 269/450 /cluster/home/sindroye/tdt17-miniProject/src/../data/RevisedPolesY11/test/images/combined_image_2041_png.rf.86b5ae96035c9ef5ed23f59b9c518b69.jpg: 128x1024 2 poles, 2.2ms\n",
      "image 270/450 /cluster/home/sindroye/tdt17-miniProject/src/../data/RevisedPolesY11/test/images/combined_image_2055_png.rf.8401bffba8169fbab4838c2860a43b02.jpg: 128x1024 2 poles, 2.2ms\n",
      "image 271/450 /cluster/home/sindroye/tdt17-miniProject/src/../data/RevisedPolesY11/test/images/combined_image_2061_png.rf.c6b2177413367b238567aef475ea90ab.jpg: 128x1024 2 poles, 2.2ms\n",
      "image 272/450 /cluster/home/sindroye/tdt17-miniProject/src/../data/RevisedPolesY11/test/images/combined_image_2066_png.rf.878083657398485ef545247396e5a96c.jpg: 128x1024 2 poles, 2.2ms\n",
      "image 273/450 /cluster/home/sindroye/tdt17-miniProject/src/../data/RevisedPolesY11/test/images/combined_image_2067_png.rf.d4b004c8226f7f348a141abec99e0d6c.jpg: 128x1024 2 poles, 2.2ms\n",
      "image 274/450 /cluster/home/sindroye/tdt17-miniProject/src/../data/RevisedPolesY11/test/images/combined_image_206_png.rf.edd6063918be4a02ce80da21187e1819.jpg: 128x1024 2 poles, 2.2ms\n",
      "image 275/450 /cluster/home/sindroye/tdt17-miniProject/src/../data/RevisedPolesY11/test/images/combined_image_2071_png.rf.854f85a722832557156324ee68859860.jpg: 128x1024 2 poles, 2.2ms\n",
      "image 276/450 /cluster/home/sindroye/tdt17-miniProject/src/../data/RevisedPolesY11/test/images/combined_image_2079_png.rf.93f860dc0d6a49c341df6563c1d9eefc.jpg: 128x1024 2 poles, 2.2ms\n",
      "image 277/450 /cluster/home/sindroye/tdt17-miniProject/src/../data/RevisedPolesY11/test/images/combined_image_2080_png.rf.95f1fb312ad58efe1b8909d124fab9d1.jpg: 128x1024 2 poles, 2.2ms\n",
      "image 278/450 /cluster/home/sindroye/tdt17-miniProject/src/../data/RevisedPolesY11/test/images/combined_image_208_png.rf.285678fdf4d75d4efd77e5bd16735749.jpg: 128x1024 2 poles, 2.2ms\n",
      "image 279/450 /cluster/home/sindroye/tdt17-miniProject/src/../data/RevisedPolesY11/test/images/combined_image_2098_png.rf.fd5288277bdb99a3bd554c60302efc2e.jpg: 128x1024 2 poles, 2.2ms\n",
      "image 280/450 /cluster/home/sindroye/tdt17-miniProject/src/../data/RevisedPolesY11/test/images/combined_image_209_png.rf.46bd010a1b9f5847d9c204853fbbc7af.jpg: 128x1024 2 poles, 2.2ms\n",
      "image 281/450 /cluster/home/sindroye/tdt17-miniProject/src/../data/RevisedPolesY11/test/images/combined_image_2107_png.rf.00acd99b3988058f8bc397bc2bf45276.jpg: 128x1024 2 poles, 2.2ms\n",
      "image 282/450 /cluster/home/sindroye/tdt17-miniProject/src/../data/RevisedPolesY11/test/images/combined_image_210_png.rf.1bc435517bfe8018df65c3de98e4fdda.jpg: 128x1024 2 poles, 2.2ms\n",
      "image 283/450 /cluster/home/sindroye/tdt17-miniProject/src/../data/RevisedPolesY11/test/images/combined_image_2110_png.rf.de3801eeabebe6338aa632eb1810102e.jpg: 128x1024 2 poles, 2.2ms\n",
      "image 284/450 /cluster/home/sindroye/tdt17-miniProject/src/../data/RevisedPolesY11/test/images/combined_image_2113_png.rf.04a91d3907e722d80a18b5c343242e4f.jpg: 128x1024 2 poles, 2.2ms\n",
      "image 285/450 /cluster/home/sindroye/tdt17-miniProject/src/../data/RevisedPolesY11/test/images/combined_image_2115_png.rf.8938ed0a78f94f46d5a6ee60132c5865.jpg: 128x1024 3 poles, 2.2ms\n",
      "image 286/450 /cluster/home/sindroye/tdt17-miniProject/src/../data/RevisedPolesY11/test/images/combined_image_2121_png.rf.724d52dd9c30629ece43e17c33e7efe6.jpg: 128x1024 2 poles, 2.2ms\n",
      "image 287/450 /cluster/home/sindroye/tdt17-miniProject/src/../data/RevisedPolesY11/test/images/combined_image_2123_png.rf.ad688a0ad3d105390ec7cfd6dcab1b8a.jpg: 128x1024 3 poles, 2.2ms\n",
      "image 288/450 /cluster/home/sindroye/tdt17-miniProject/src/../data/RevisedPolesY11/test/images/combined_image_2134_png.rf.96c9c102d5cd9c4f9e4402ba69c88a8f.jpg: 128x1024 2 poles, 2.2ms\n",
      "image 289/450 /cluster/home/sindroye/tdt17-miniProject/src/../data/RevisedPolesY11/test/images/combined_image_2135_png.rf.a18ad279af62fb0eeb03feb47364172a.jpg: 128x1024 3 poles, 2.2ms\n",
      "image 290/450 /cluster/home/sindroye/tdt17-miniProject/src/../data/RevisedPolesY11/test/images/combined_image_2137_png.rf.4bc4a417da5bee98c9d046b75bd27a47.jpg: 128x1024 3 poles, 2.2ms\n",
      "image 291/450 /cluster/home/sindroye/tdt17-miniProject/src/../data/RevisedPolesY11/test/images/combined_image_2142_png.rf.0f1cbad997307a5c48ecf1fe3c92ed80.jpg: 128x1024 3 poles, 2.2ms\n",
      "image 292/450 /cluster/home/sindroye/tdt17-miniProject/src/../data/RevisedPolesY11/test/images/combined_image_2148_png.rf.52e88a09c3295347ccf1ce0de2830b0f.jpg: 128x1024 2 poles, 2.2ms\n",
      "image 293/450 /cluster/home/sindroye/tdt17-miniProject/src/../data/RevisedPolesY11/test/images/combined_image_220_png.rf.768f3e3e1e4367327d4da8fe1e0c97da.jpg: 128x1024 2 poles, 2.2ms\n",
      "image 294/450 /cluster/home/sindroye/tdt17-miniProject/src/../data/RevisedPolesY11/test/images/combined_image_23_png.rf.78e749abc4ab26db1d5248281322942f.jpg: 128x1024 2 poles, 2.2ms\n",
      "image 295/450 /cluster/home/sindroye/tdt17-miniProject/src/../data/RevisedPolesY11/test/images/combined_image_241_png.rf.5037c36785203b2b4862f733afc23b76.jpg: 128x1024 2 poles, 2.2ms\n",
      "image 296/450 /cluster/home/sindroye/tdt17-miniProject/src/../data/RevisedPolesY11/test/images/combined_image_248_png.rf.904f3c0c18d2ba57af207eb5febc30e1.jpg: 128x1024 2 poles, 2.2ms\n",
      "image 297/450 /cluster/home/sindroye/tdt17-miniProject/src/../data/RevisedPolesY11/test/images/combined_image_252_png.rf.135ceef664dba8daecdb41f98d115755.jpg: 128x1024 2 poles, 2.2ms\n",
      "image 298/450 /cluster/home/sindroye/tdt17-miniProject/src/../data/RevisedPolesY11/test/images/combined_image_264_png.rf.25da3091cf1b4646f7cdd56e292b467f.jpg: 128x1024 2 poles, 2.2ms\n",
      "image 299/450 /cluster/home/sindroye/tdt17-miniProject/src/../data/RevisedPolesY11/test/images/combined_image_26_png.rf.9e9bdfe53262f9f62dcc272754658334.jpg: 128x1024 1 pole, 2.2ms\n",
      "image 300/450 /cluster/home/sindroye/tdt17-miniProject/src/../data/RevisedPolesY11/test/images/combined_image_270_png.rf.6397633d790e78956c3526ed3cd3e341.jpg: 128x1024 3 poles, 2.2ms\n",
      "image 301/450 /cluster/home/sindroye/tdt17-miniProject/src/../data/RevisedPolesY11/test/images/combined_image_280_png.rf.741c7cbd9c9f16c8eb6e7e54a6073dd8.jpg: 128x1024 4 poles, 2.2ms\n",
      "image 302/450 /cluster/home/sindroye/tdt17-miniProject/src/../data/RevisedPolesY11/test/images/combined_image_281_png.rf.21f86e50e511faf5710e65ee9015cadf.jpg: 128x1024 3 poles, 2.2ms\n",
      "image 303/450 /cluster/home/sindroye/tdt17-miniProject/src/../data/RevisedPolesY11/test/images/combined_image_293_png.rf.e2c7a9dbe2a35960db4ca251f2084a9e.jpg: 128x1024 1 pole, 2.2ms\n",
      "image 304/450 /cluster/home/sindroye/tdt17-miniProject/src/../data/RevisedPolesY11/test/images/combined_image_294_png.rf.f3a9c64e164a4cef7e1bd4827ee650b2.jpg: 128x1024 1 pole, 2.2ms\n",
      "image 305/450 /cluster/home/sindroye/tdt17-miniProject/src/../data/RevisedPolesY11/test/images/combined_image_299_png.rf.c25a1db90f76878fa14273be1d7ad59c.jpg: 128x1024 2 poles, 2.2ms\n",
      "image 306/450 /cluster/home/sindroye/tdt17-miniProject/src/../data/RevisedPolesY11/test/images/combined_image_305_png.rf.6691056a79bdfc0311a9c2f4ef3a1214.jpg: 128x1024 2 poles, 2.2ms\n",
      "image 307/450 /cluster/home/sindroye/tdt17-miniProject/src/../data/RevisedPolesY11/test/images/combined_image_313_png.rf.17e22e38b658f4da17ea2fdd93ccaa35.jpg: 128x1024 1 pole, 2.2ms\n",
      "image 308/450 /cluster/home/sindroye/tdt17-miniProject/src/../data/RevisedPolesY11/test/images/combined_image_316_png.rf.ce73b51683dce9fbe6260ef4b468389b.jpg: 128x1024 1 pole, 2.2ms\n",
      "image 309/450 /cluster/home/sindroye/tdt17-miniProject/src/../data/RevisedPolesY11/test/images/combined_image_318_png.rf.67e55f783242449d925ad9f98a139ba1.jpg: 128x1024 1 pole, 2.2ms\n",
      "image 310/450 /cluster/home/sindroye/tdt17-miniProject/src/../data/RevisedPolesY11/test/images/combined_image_327_png.rf.45346d3f0af235659dedfd1f13518e55.jpg: 128x1024 2 poles, 2.2ms\n",
      "image 311/450 /cluster/home/sindroye/tdt17-miniProject/src/../data/RevisedPolesY11/test/images/combined_image_32_png.rf.c13599576f94b30d785475f8b07926ff.jpg: 128x1024 2 poles, 2.2ms\n",
      "image 312/450 /cluster/home/sindroye/tdt17-miniProject/src/../data/RevisedPolesY11/test/images/combined_image_330_png.rf.35399fe9b05b3550782a5eba544c7acb.jpg: 128x1024 2 poles, 2.2ms\n",
      "image 313/450 /cluster/home/sindroye/tdt17-miniProject/src/../data/RevisedPolesY11/test/images/combined_image_339_png.rf.fe3cb624b3d13bd6a1729e118e744560.jpg: 128x1024 (no detections), 2.2ms\n",
      "image 314/450 /cluster/home/sindroye/tdt17-miniProject/src/../data/RevisedPolesY11/test/images/combined_image_343_png.rf.581a802ac0ee1b4744d5909a69a01fb7.jpg: 128x1024 1 pole, 2.2ms\n",
      "image 315/450 /cluster/home/sindroye/tdt17-miniProject/src/../data/RevisedPolesY11/test/images/combined_image_344_png.rf.2eb6b69c3e1888df05315033a19478a6.jpg: 128x1024 1 pole, 2.2ms\n",
      "image 316/450 /cluster/home/sindroye/tdt17-miniProject/src/../data/RevisedPolesY11/test/images/combined_image_350_png.rf.4680aef538eefeff6d1cf3c3445a3f76.jpg: 128x1024 2 poles, 2.2ms\n",
      "image 317/450 /cluster/home/sindroye/tdt17-miniProject/src/../data/RevisedPolesY11/test/images/combined_image_355_png.rf.5fa43883fb6c8e9fd11662827819bf50.jpg: 128x1024 1 pole, 2.2ms\n",
      "image 318/450 /cluster/home/sindroye/tdt17-miniProject/src/../data/RevisedPolesY11/test/images/combined_image_358_png.rf.004730040c48e3f361dcc6ec05c44e82.jpg: 128x1024 (no detections), 2.2ms\n",
      "image 319/450 /cluster/home/sindroye/tdt17-miniProject/src/../data/RevisedPolesY11/test/images/combined_image_35_png.rf.f3cb78ec8cf9d260f5622f0070eec5b4.jpg: 128x1024 2 poles, 2.2ms\n",
      "image 320/450 /cluster/home/sindroye/tdt17-miniProject/src/../data/RevisedPolesY11/test/images/combined_image_362_png.rf.13bda6cb09226142fe028e59f3cc5867.jpg: 128x1024 2 poles, 2.2ms\n",
      "image 321/450 /cluster/home/sindroye/tdt17-miniProject/src/../data/RevisedPolesY11/test/images/combined_image_363_png.rf.447dce1993d0ade41da53b224a975d8c.jpg: 128x1024 2 poles, 2.2ms\n",
      "image 322/450 /cluster/home/sindroye/tdt17-miniProject/src/../data/RevisedPolesY11/test/images/combined_image_367_png.rf.4550b6e9ed91ad2b0adbf317b315aae6.jpg: 128x1024 2 poles, 2.2ms\n",
      "image 323/450 /cluster/home/sindroye/tdt17-miniProject/src/../data/RevisedPolesY11/test/images/combined_image_371_png.rf.8413d615b024b331f4173925a3e9648f.jpg: 128x1024 2 poles, 2.2ms\n",
      "image 324/450 /cluster/home/sindroye/tdt17-miniProject/src/../data/RevisedPolesY11/test/images/combined_image_376_png.rf.ad2973f64e687b2f5c1ee6aeee272743.jpg: 128x1024 1 pole, 2.2ms\n",
      "image 325/450 /cluster/home/sindroye/tdt17-miniProject/src/../data/RevisedPolesY11/test/images/combined_image_379_png.rf.454d202f839fbcf5e4b15b9886912efa.jpg: 128x1024 1 pole, 2.2ms\n",
      "image 326/450 /cluster/home/sindroye/tdt17-miniProject/src/../data/RevisedPolesY11/test/images/combined_image_37_png.rf.a05ca92309b9298175083a5755c233a8.jpg: 128x1024 2 poles, 2.2ms\n",
      "image 327/450 /cluster/home/sindroye/tdt17-miniProject/src/../data/RevisedPolesY11/test/images/combined_image_385_png.rf.7228018b2a3cfba1f395ff4a582730ce.jpg: 128x1024 1 pole, 2.2ms\n",
      "image 328/450 /cluster/home/sindroye/tdt17-miniProject/src/../data/RevisedPolesY11/test/images/combined_image_386_png.rf.16a640219216af141a48b8fdc083d5ac.jpg: 128x1024 1 pole, 2.2ms\n",
      "image 329/450 /cluster/home/sindroye/tdt17-miniProject/src/../data/RevisedPolesY11/test/images/combined_image_397_png.rf.49fedcdef2cdd1105e5fa25de531da5c.jpg: 128x1024 2 poles, 2.2ms\n",
      "image 330/450 /cluster/home/sindroye/tdt17-miniProject/src/../data/RevisedPolesY11/test/images/combined_image_398_png.rf.b41086509e81efeb8e4b25dfd2b9a0ac.jpg: 128x1024 2 poles, 2.2ms\n",
      "image 331/450 /cluster/home/sindroye/tdt17-miniProject/src/../data/RevisedPolesY11/test/images/combined_image_410_png.rf.d66bda6a1bb0ddd107cd9ea8c385e8b7.jpg: 128x1024 2 poles, 2.2ms\n",
      "image 332/450 /cluster/home/sindroye/tdt17-miniProject/src/../data/RevisedPolesY11/test/images/combined_image_413_png.rf.c6d0567b4fd689b71f114579d7f5cd09.jpg: 128x1024 1 pole, 2.2ms\n",
      "image 333/450 /cluster/home/sindroye/tdt17-miniProject/src/../data/RevisedPolesY11/test/images/combined_image_423_png.rf.af7b4d79f2297479757eaeed0c4e41aa.jpg: 128x1024 2 poles, 2.2ms\n",
      "image 334/450 /cluster/home/sindroye/tdt17-miniProject/src/../data/RevisedPolesY11/test/images/combined_image_438_png.rf.43a966a6730536ae62e8932b1fa8e1a3.jpg: 128x1024 2 poles, 2.2ms\n",
      "image 335/450 /cluster/home/sindroye/tdt17-miniProject/src/../data/RevisedPolesY11/test/images/combined_image_442_png.rf.b6ea2995e16739e2aadfe4ebb4b1e974.jpg: 128x1024 2 poles, 2.2ms\n",
      "image 336/450 /cluster/home/sindroye/tdt17-miniProject/src/../data/RevisedPolesY11/test/images/combined_image_446_png.rf.0480634394fb9ab99dcfb482f4cfe00f.jpg: 128x1024 2 poles, 2.2ms\n",
      "image 337/450 /cluster/home/sindroye/tdt17-miniProject/src/../data/RevisedPolesY11/test/images/combined_image_454_png.rf.6bfbd452cf60eeab4b28a368b42e5d68.jpg: 128x1024 2 poles, 2.2ms\n",
      "image 338/450 /cluster/home/sindroye/tdt17-miniProject/src/../data/RevisedPolesY11/test/images/combined_image_457_png.rf.19432a60bfa321b42a96321ca0f7f71a.jpg: 128x1024 2 poles, 2.2ms\n",
      "image 339/450 /cluster/home/sindroye/tdt17-miniProject/src/../data/RevisedPolesY11/test/images/combined_image_45_png.rf.7a46e828c6492cd241ebb6950e0d5bf2.jpg: 128x1024 2 poles, 2.2ms\n",
      "image 340/450 /cluster/home/sindroye/tdt17-miniProject/src/../data/RevisedPolesY11/test/images/combined_image_478_png.rf.47168472ea95093885d086f62e193738.jpg: 128x1024 1 pole, 2.2ms\n",
      "image 341/450 /cluster/home/sindroye/tdt17-miniProject/src/../data/RevisedPolesY11/test/images/combined_image_481_png.rf.bf647f2da8d891f821f009f680b2e351.jpg: 128x1024 2 poles, 2.2ms\n",
      "image 342/450 /cluster/home/sindroye/tdt17-miniProject/src/../data/RevisedPolesY11/test/images/combined_image_484_png.rf.baa955d927f322dd64722d7120ecd9f1.jpg: 128x1024 2 poles, 2.2ms\n",
      "image 343/450 /cluster/home/sindroye/tdt17-miniProject/src/../data/RevisedPolesY11/test/images/combined_image_485_png.rf.bf397a7c2c95802113143d20ffa6a1ee.jpg: 128x1024 2 poles, 2.2ms\n",
      "image 344/450 /cluster/home/sindroye/tdt17-miniProject/src/../data/RevisedPolesY11/test/images/combined_image_489_png.rf.d3bba6e772823413674c557a47c52fdd.jpg: 128x1024 1 pole, 2.2ms\n",
      "image 345/450 /cluster/home/sindroye/tdt17-miniProject/src/../data/RevisedPolesY11/test/images/combined_image_48_png.rf.e63c299199752e2e981ac326332c1555.jpg: 128x1024 2 poles, 2.2ms\n",
      "image 346/450 /cluster/home/sindroye/tdt17-miniProject/src/../data/RevisedPolesY11/test/images/combined_image_492_png.rf.7331cd2054ba76398b9e55c3bc4c92ab.jpg: 128x1024 1 pole, 2.2ms\n",
      "image 347/450 /cluster/home/sindroye/tdt17-miniProject/src/../data/RevisedPolesY11/test/images/combined_image_493_png.rf.bd9fae5c6ed12e63d8ab04df3538f2fe.jpg: 128x1024 1 pole, 2.2ms\n",
      "image 348/450 /cluster/home/sindroye/tdt17-miniProject/src/../data/RevisedPolesY11/test/images/combined_image_504_png.rf.fa723b49e53773566910654df7609f7b.jpg: 128x1024 2 poles, 2.2ms\n",
      "image 349/450 /cluster/home/sindroye/tdt17-miniProject/src/../data/RevisedPolesY11/test/images/combined_image_505_png.rf.3628f5a6aaded73dfdd2cc66a37a44ee.jpg: 128x1024 2 poles, 2.2ms\n",
      "image 350/450 /cluster/home/sindroye/tdt17-miniProject/src/../data/RevisedPolesY11/test/images/combined_image_506_png.rf.e1dafe50fff73d32ddbd00073d07a1c3.jpg: 128x1024 3 poles, 2.2ms\n",
      "image 351/450 /cluster/home/sindroye/tdt17-miniProject/src/../data/RevisedPolesY11/test/images/combined_image_514_png.rf.a19ac0c79c7c20c31d110314da8cfa0f.jpg: 128x1024 2 poles, 2.2ms\n",
      "image 352/450 /cluster/home/sindroye/tdt17-miniProject/src/../data/RevisedPolesY11/test/images/combined_image_515_png.rf.190b7d15a5f92051f556578adffd1266.jpg: 128x1024 2 poles, 2.2ms\n",
      "image 353/450 /cluster/home/sindroye/tdt17-miniProject/src/../data/RevisedPolesY11/test/images/combined_image_519_png.rf.164431cababe38609423d27178fd2310.jpg: 128x1024 2 poles, 2.2ms\n",
      "image 354/450 /cluster/home/sindroye/tdt17-miniProject/src/../data/RevisedPolesY11/test/images/combined_image_520_png.rf.44ccf995206203378bfc38e45bd7b815.jpg: 128x1024 2 poles, 2.2ms\n",
      "image 355/450 /cluster/home/sindroye/tdt17-miniProject/src/../data/RevisedPolesY11/test/images/combined_image_521_png.rf.2527a5b9ae72db74ba02f98975f671dc.jpg: 128x1024 2 poles, 2.2ms\n",
      "image 356/450 /cluster/home/sindroye/tdt17-miniProject/src/../data/RevisedPolesY11/test/images/combined_image_526_png.rf.519c0013672ed6158405fbb529012d5b.jpg: 128x1024 2 poles, 2.2ms\n",
      "image 357/450 /cluster/home/sindroye/tdt17-miniProject/src/../data/RevisedPolesY11/test/images/combined_image_530_png.rf.4eefd0b140de611ad064ffd637503b8f.jpg: 128x1024 1 pole, 2.2ms\n",
      "image 358/450 /cluster/home/sindroye/tdt17-miniProject/src/../data/RevisedPolesY11/test/images/combined_image_536_png.rf.10017b10b55afc859f1eccd40f324c23.jpg: 128x1024 2 poles, 2.2ms\n",
      "image 359/450 /cluster/home/sindroye/tdt17-miniProject/src/../data/RevisedPolesY11/test/images/combined_image_543_png.rf.8f65ece27be42ada59648c2c05263426.jpg: 128x1024 2 poles, 2.2ms\n",
      "image 360/450 /cluster/home/sindroye/tdt17-miniProject/src/../data/RevisedPolesY11/test/images/combined_image_544_png.rf.ef5f19a2faee8a3984d6874bbbd75a67.jpg: 128x1024 2 poles, 2.2ms\n",
      "image 361/450 /cluster/home/sindroye/tdt17-miniProject/src/../data/RevisedPolesY11/test/images/combined_image_545_png.rf.d90b55ff1e12a6a231d4dd98da53b971.jpg: 128x1024 2 poles, 2.2ms\n",
      "image 362/450 /cluster/home/sindroye/tdt17-miniProject/src/../data/RevisedPolesY11/test/images/combined_image_547_png.rf.ec81df5a01b4f7870e55e27b7fada5e1.jpg: 128x1024 2 poles, 2.2ms\n",
      "image 363/450 /cluster/home/sindroye/tdt17-miniProject/src/../data/RevisedPolesY11/test/images/combined_image_549_png.rf.6ddf7327d386b277028b694b4dc34e7c.jpg: 128x1024 2 poles, 2.2ms\n",
      "image 364/450 /cluster/home/sindroye/tdt17-miniProject/src/../data/RevisedPolesY11/test/images/combined_image_551_png.rf.b36cd945c5c21fb2a85df5299fe3df95.jpg: 128x1024 2 poles, 2.2ms\n",
      "image 365/450 /cluster/home/sindroye/tdt17-miniProject/src/../data/RevisedPolesY11/test/images/combined_image_557_png.rf.9e6d914167518cd007f1fae1f7ec64f5.jpg: 128x1024 2 poles, 2.2ms\n",
      "image 366/450 /cluster/home/sindroye/tdt17-miniProject/src/../data/RevisedPolesY11/test/images/combined_image_562_png.rf.c2723d92c6e49733d99d09145fa0f45e.jpg: 128x1024 3 poles, 2.2ms\n",
      "image 367/450 /cluster/home/sindroye/tdt17-miniProject/src/../data/RevisedPolesY11/test/images/combined_image_566_png.rf.b11cd87008d5b93c0689c49b5728985b.jpg: 128x1024 2 poles, 2.2ms\n",
      "image 368/450 /cluster/home/sindroye/tdt17-miniProject/src/../data/RevisedPolesY11/test/images/combined_image_567_png.rf.d2e6d4219a1b01b245803018bad47b75.jpg: 128x1024 2 poles, 2.2ms\n",
      "image 369/450 /cluster/home/sindroye/tdt17-miniProject/src/../data/RevisedPolesY11/test/images/combined_image_568_png.rf.5be8bf22b8932f74a82bf8bdb9b80298.jpg: 128x1024 2 poles, 2.2ms\n",
      "image 370/450 /cluster/home/sindroye/tdt17-miniProject/src/../data/RevisedPolesY11/test/images/combined_image_569_png.rf.338f5bdccca4d995a4d7253a37c8cd97.jpg: 128x1024 2 poles, 2.2ms\n",
      "image 371/450 /cluster/home/sindroye/tdt17-miniProject/src/../data/RevisedPolesY11/test/images/combined_image_572_png.rf.cd2484977743b29d5803f79603ecc512.jpg: 128x1024 1 pole, 2.2ms\n",
      "image 372/450 /cluster/home/sindroye/tdt17-miniProject/src/../data/RevisedPolesY11/test/images/combined_image_573_png.rf.d75a87159cb3f641160161e454e5b822.jpg: 128x1024 2 poles, 2.2ms\n",
      "image 373/450 /cluster/home/sindroye/tdt17-miniProject/src/../data/RevisedPolesY11/test/images/combined_image_576_png.rf.994f1c61486bc8b5188d6c9f08bb052b.jpg: 128x1024 1 pole, 2.2ms\n",
      "image 374/450 /cluster/home/sindroye/tdt17-miniProject/src/../data/RevisedPolesY11/test/images/combined_image_577_png.rf.3d1df226b579eeb7fdf383f472646cd7.jpg: 128x1024 2 poles, 2.2ms\n",
      "image 375/450 /cluster/home/sindroye/tdt17-miniProject/src/../data/RevisedPolesY11/test/images/combined_image_57_png.rf.0b02f3983c1050081b81cfb748debe0e.jpg: 128x1024 3 poles, 2.2ms\n",
      "image 376/450 /cluster/home/sindroye/tdt17-miniProject/src/../data/RevisedPolesY11/test/images/combined_image_581_png.rf.4ffc19a386147b9140e45672ebc08830.jpg: 128x1024 3 poles, 2.2ms\n",
      "image 377/450 /cluster/home/sindroye/tdt17-miniProject/src/../data/RevisedPolesY11/test/images/combined_image_591_png.rf.eed0dc7dce73c99ed5bc0b2b9bb5c0cc.jpg: 128x1024 (no detections), 2.2ms\n",
      "image 378/450 /cluster/home/sindroye/tdt17-miniProject/src/../data/RevisedPolesY11/test/images/combined_image_594_png.rf.96cafe13db0d12a84c2ef1140e3b4817.jpg: 128x1024 2 poles, 2.2ms\n",
      "image 379/450 /cluster/home/sindroye/tdt17-miniProject/src/../data/RevisedPolesY11/test/images/combined_image_596_png.rf.a2d1f82d70e42b6d26b5fcef61ef8a7f.jpg: 128x1024 2 poles, 2.2ms\n",
      "image 380/450 /cluster/home/sindroye/tdt17-miniProject/src/../data/RevisedPolesY11/test/images/combined_image_5_png.rf.9372598b5abf9cfff473ec530fdbf7be.jpg: 128x1024 1 pole, 2.2ms\n",
      "image 381/450 /cluster/home/sindroye/tdt17-miniProject/src/../data/RevisedPolesY11/test/images/combined_image_610_png.rf.dfc9224a285c2ebbb06b5b7d051eacad.jpg: 128x1024 2 poles, 2.2ms\n",
      "image 382/450 /cluster/home/sindroye/tdt17-miniProject/src/../data/RevisedPolesY11/test/images/combined_image_614_png.rf.8fd797f6ac0a486a9822722abed8aa90.jpg: 128x1024 3 poles, 2.2ms\n",
      "image 383/450 /cluster/home/sindroye/tdt17-miniProject/src/../data/RevisedPolesY11/test/images/combined_image_618_png.rf.84c1d5a69dbc30c60cd852b43ea59025.jpg: 128x1024 3 poles, 2.2ms\n",
      "image 384/450 /cluster/home/sindroye/tdt17-miniProject/src/../data/RevisedPolesY11/test/images/combined_image_619_png.rf.a0b3ab6d5f71208a781434fced373c22.jpg: 128x1024 2 poles, 2.2ms\n",
      "image 385/450 /cluster/home/sindroye/tdt17-miniProject/src/../data/RevisedPolesY11/test/images/combined_image_624_png.rf.cb368d88df5972a23ba21fce4fa1a3cc.jpg: 128x1024 2 poles, 2.2ms\n",
      "image 386/450 /cluster/home/sindroye/tdt17-miniProject/src/../data/RevisedPolesY11/test/images/combined_image_627_png.rf.6ff37676a7d81b0f4256541798837961.jpg: 128x1024 2 poles, 2.2ms\n",
      "image 387/450 /cluster/home/sindroye/tdt17-miniProject/src/../data/RevisedPolesY11/test/images/combined_image_637_png.rf.2069c003a40a840a1e115e782e6b1f96.jpg: 128x1024 1 pole, 2.2ms\n",
      "image 388/450 /cluster/home/sindroye/tdt17-miniProject/src/../data/RevisedPolesY11/test/images/combined_image_646_png.rf.f9e61008ae16f19e98d860da169e4c2b.jpg: 128x1024 1 pole, 2.2ms\n",
      "image 389/450 /cluster/home/sindroye/tdt17-miniProject/src/../data/RevisedPolesY11/test/images/combined_image_647_png.rf.2bb18c1fcf9e8c76bc9b24b31e78b90a.jpg: 128x1024 2 poles, 2.2ms\n",
      "image 390/450 /cluster/home/sindroye/tdt17-miniProject/src/../data/RevisedPolesY11/test/images/combined_image_649_png.rf.641a374e47018ec0de20ebbe4c3adb60.jpg: 128x1024 2 poles, 2.2ms\n",
      "image 391/450 /cluster/home/sindroye/tdt17-miniProject/src/../data/RevisedPolesY11/test/images/combined_image_651_png.rf.196abbdf3c542cd627bb33646210e709.jpg: 128x1024 1 pole, 2.2ms\n",
      "image 392/450 /cluster/home/sindroye/tdt17-miniProject/src/../data/RevisedPolesY11/test/images/combined_image_658_png.rf.22bde401c4996f3c6510bc6dbfa67621.jpg: 128x1024 2 poles, 2.2ms\n",
      "image 393/450 /cluster/home/sindroye/tdt17-miniProject/src/../data/RevisedPolesY11/test/images/combined_image_662_png.rf.471b47c2028941fa3e6c2bf2505e9eff.jpg: 128x1024 2 poles, 2.2ms\n",
      "image 394/450 /cluster/home/sindroye/tdt17-miniProject/src/../data/RevisedPolesY11/test/images/combined_image_669_png.rf.61788df5c708cb1dca7f27e5e03cde4c.jpg: 128x1024 2 poles, 2.2ms\n",
      "image 395/450 /cluster/home/sindroye/tdt17-miniProject/src/../data/RevisedPolesY11/test/images/combined_image_670_png.rf.6064b8ce55425510cef462f18800f40a.jpg: 128x1024 2 poles, 2.2ms\n",
      "image 396/450 /cluster/home/sindroye/tdt17-miniProject/src/../data/RevisedPolesY11/test/images/combined_image_671_png.rf.82fb2d483f15e161e6141d07876852ac.jpg: 128x1024 2 poles, 2.2ms\n",
      "image 397/450 /cluster/home/sindroye/tdt17-miniProject/src/../data/RevisedPolesY11/test/images/combined_image_673_png.rf.3eb70b2d0d66f9b0bf0b0ab5afa40bc5.jpg: 128x1024 2 poles, 2.2ms\n",
      "image 398/450 /cluster/home/sindroye/tdt17-miniProject/src/../data/RevisedPolesY11/test/images/combined_image_676_png.rf.9d51d7aadfb0ff93d9f16dc9821ea61b.jpg: 128x1024 2 poles, 2.2ms\n",
      "image 399/450 /cluster/home/sindroye/tdt17-miniProject/src/../data/RevisedPolesY11/test/images/combined_image_683_png.rf.b849d31cd2fcd7a2cf591487e1d362fd.jpg: 128x1024 2 poles, 2.2ms\n",
      "image 400/450 /cluster/home/sindroye/tdt17-miniProject/src/../data/RevisedPolesY11/test/images/combined_image_684_png.rf.0a2d55e68bdd961f44a6294b6707ff63.jpg: 128x1024 2 poles, 2.2ms\n",
      "image 401/450 /cluster/home/sindroye/tdt17-miniProject/src/../data/RevisedPolesY11/test/images/combined_image_696_png.rf.39828489fe5b9a379ac1d16ce4cfcc32.jpg: 128x1024 1 pole, 2.2ms\n",
      "image 402/450 /cluster/home/sindroye/tdt17-miniProject/src/../data/RevisedPolesY11/test/images/combined_image_699_png.rf.31265447d637e445ca9114e5c8850392.jpg: 128x1024 2 poles, 2.2ms\n",
      "image 403/450 /cluster/home/sindroye/tdt17-miniProject/src/../data/RevisedPolesY11/test/images/combined_image_703_png.rf.b4a7ffd8571911ad4d8af25726937183.jpg: 128x1024 2 poles, 2.2ms\n",
      "image 404/450 /cluster/home/sindroye/tdt17-miniProject/src/../data/RevisedPolesY11/test/images/combined_image_710_png.rf.eed729341db4d4ea67a7f9dbad9de32f.jpg: 128x1024 2 poles, 2.2ms\n",
      "image 405/450 /cluster/home/sindroye/tdt17-miniProject/src/../data/RevisedPolesY11/test/images/combined_image_711_png.rf.0d13e00a0d1e54f9fbfe23ac956c536d.jpg: 128x1024 2 poles, 2.2ms\n",
      "image 406/450 /cluster/home/sindroye/tdt17-miniProject/src/../data/RevisedPolesY11/test/images/combined_image_714_png.rf.1dd2c8299496fff65bbf236ee21edae5.jpg: 128x1024 1 pole, 2.2ms\n",
      "image 407/450 /cluster/home/sindroye/tdt17-miniProject/src/../data/RevisedPolesY11/test/images/combined_image_723_png.rf.7cbee9c7c269aa3ec2046b4d721969d0.jpg: 128x1024 1 pole, 2.2ms\n",
      "image 408/450 /cluster/home/sindroye/tdt17-miniProject/src/../data/RevisedPolesY11/test/images/combined_image_72_png.rf.8e743d9b3b9644f982f6ed6a414d0fe7.jpg: 128x1024 2 poles, 2.2ms\n",
      "image 409/450 /cluster/home/sindroye/tdt17-miniProject/src/../data/RevisedPolesY11/test/images/combined_image_74_png.rf.06338f7b7f3cbb09091b5adc55a76e8a.jpg: 128x1024 2 poles, 2.2ms\n",
      "image 410/450 /cluster/home/sindroye/tdt17-miniProject/src/../data/RevisedPolesY11/test/images/combined_image_76_png.rf.adbd84d8dad4bcc5f9c39211d48b0b28.jpg: 128x1024 2 poles, 2.2ms\n",
      "image 411/450 /cluster/home/sindroye/tdt17-miniProject/src/../data/RevisedPolesY11/test/images/combined_image_770_png.rf.e37e223a4a5c104cfad2e80b6218a148.jpg: 128x1024 1 pole, 2.2ms\n",
      "image 412/450 /cluster/home/sindroye/tdt17-miniProject/src/../data/RevisedPolesY11/test/images/combined_image_778_png.rf.e499432e3722f77d4a2cedbd0d0a9efa.jpg: 128x1024 1 pole, 2.2ms\n",
      "image 413/450 /cluster/home/sindroye/tdt17-miniProject/src/../data/RevisedPolesY11/test/images/combined_image_796_png.rf.1ac5fe9eea4bc30995fda10e5e7d16bf.jpg: 128x1024 2 poles, 2.2ms\n",
      "image 414/450 /cluster/home/sindroye/tdt17-miniProject/src/../data/RevisedPolesY11/test/images/combined_image_797_png.rf.eaf7d787960791a5867c8dedf4781296.jpg: 128x1024 1 pole, 2.2ms\n",
      "image 415/450 /cluster/home/sindroye/tdt17-miniProject/src/../data/RevisedPolesY11/test/images/combined_image_799_png.rf.2571171b3c8f6dd0709460dcd6fd6e1b.jpg: 128x1024 2 poles, 2.2ms\n",
      "image 416/450 /cluster/home/sindroye/tdt17-miniProject/src/../data/RevisedPolesY11/test/images/combined_image_812_png.rf.893c7bc0589db7abe5e678d66b1b6e91.jpg: 128x1024 1 pole, 2.2ms\n",
      "image 417/450 /cluster/home/sindroye/tdt17-miniProject/src/../data/RevisedPolesY11/test/images/combined_image_818_png.rf.fad4a6ae49024719b9fdb67246ec59ab.jpg: 128x1024 1 pole, 2.2ms\n",
      "image 418/450 /cluster/home/sindroye/tdt17-miniProject/src/../data/RevisedPolesY11/test/images/combined_image_823_png.rf.e7eca806a93d2c3bb1a440c23bd590e6.jpg: 128x1024 3 poles, 2.2ms\n",
      "image 419/450 /cluster/home/sindroye/tdt17-miniProject/src/../data/RevisedPolesY11/test/images/combined_image_836_png.rf.ae0030ae87df7f7c31a9973110ffe1ac.jpg: 128x1024 2 poles, 2.2ms\n",
      "image 420/450 /cluster/home/sindroye/tdt17-miniProject/src/../data/RevisedPolesY11/test/images/combined_image_83_png.rf.878201dbc13370966490184982052eb7.jpg: 128x1024 2 poles, 2.2ms\n",
      "image 421/450 /cluster/home/sindroye/tdt17-miniProject/src/../data/RevisedPolesY11/test/images/combined_image_849_png.rf.538ff12643354a509ed4ea01e995d749.jpg: 128x1024 2 poles, 2.2ms\n",
      "image 422/450 /cluster/home/sindroye/tdt17-miniProject/src/../data/RevisedPolesY11/test/images/combined_image_857_png.rf.cd48cf69cc10d78fe0efdf4ad45bed26.jpg: 128x1024 2 poles, 2.2ms\n",
      "image 423/450 /cluster/home/sindroye/tdt17-miniProject/src/../data/RevisedPolesY11/test/images/combined_image_861_png.rf.bf59c959474b3cf4596e043144026bb4.jpg: 128x1024 1 pole, 2.2ms\n",
      "image 424/450 /cluster/home/sindroye/tdt17-miniProject/src/../data/RevisedPolesY11/test/images/combined_image_869_png.rf.000c27ae94d49cae4b818cae1dc50a91.jpg: 128x1024 2 poles, 2.2ms\n",
      "image 425/450 /cluster/home/sindroye/tdt17-miniProject/src/../data/RevisedPolesY11/test/images/combined_image_879_png.rf.b8ba3ec9c7de9337f9026f851c84ecf8.jpg: 128x1024 1 pole, 2.2ms\n",
      "image 426/450 /cluster/home/sindroye/tdt17-miniProject/src/../data/RevisedPolesY11/test/images/combined_image_87_png.rf.41baa7369278796ebc4efd509e9b2b6d.jpg: 128x1024 2 poles, 2.2ms\n",
      "image 427/450 /cluster/home/sindroye/tdt17-miniProject/src/../data/RevisedPolesY11/test/images/combined_image_884_png.rf.bee0d14ffe8da72b98c819782402aa31.jpg: 128x1024 2 poles, 2.2ms\n",
      "image 428/450 /cluster/home/sindroye/tdt17-miniProject/src/../data/RevisedPolesY11/test/images/combined_image_885_png.rf.a8fd54835d1eef7a4fd21c62406ae862.jpg: 128x1024 2 poles, 2.2ms\n",
      "image 429/450 /cluster/home/sindroye/tdt17-miniProject/src/../data/RevisedPolesY11/test/images/combined_image_886_png.rf.0da07b949e30500c7522dafd88c21ac0.jpg: 128x1024 2 poles, 2.2ms\n",
      "image 430/450 /cluster/home/sindroye/tdt17-miniProject/src/../data/RevisedPolesY11/test/images/combined_image_893_png.rf.c12e6773754e645d95cb0fee76a847c6.jpg: 128x1024 1 pole, 2.2ms\n",
      "image 431/450 /cluster/home/sindroye/tdt17-miniProject/src/../data/RevisedPolesY11/test/images/combined_image_897_png.rf.65e3b5d95e8b9298f8c3e78377b7ab3f.jpg: 128x1024 3 poles, 2.2ms\n",
      "image 432/450 /cluster/home/sindroye/tdt17-miniProject/src/../data/RevisedPolesY11/test/images/combined_image_901_png.rf.dc20e5a08b80d5f6bfacd03edcce16e2.jpg: 128x1024 3 poles, 2.2ms\n",
      "image 433/450 /cluster/home/sindroye/tdt17-miniProject/src/../data/RevisedPolesY11/test/images/combined_image_903_png.rf.1326b204522b5a87968b909e1ad8fe16.jpg: 128x1024 2 poles, 2.2ms\n",
      "image 434/450 /cluster/home/sindroye/tdt17-miniProject/src/../data/RevisedPolesY11/test/images/combined_image_908_png.rf.b3020aa0761e82f230eb8e1f30da494d.jpg: 128x1024 2 poles, 2.2ms\n",
      "image 435/450 /cluster/home/sindroye/tdt17-miniProject/src/../data/RevisedPolesY11/test/images/combined_image_914_png.rf.86b8cef66d296110b6c7680bf9cd1e8a.jpg: 128x1024 3 poles, 2.2ms\n",
      "image 436/450 /cluster/home/sindroye/tdt17-miniProject/src/../data/RevisedPolesY11/test/images/combined_image_915_png.rf.d20c1f9448308a1373c610ab9268e42d.jpg: 128x1024 3 poles, 2.2ms\n",
      "image 437/450 /cluster/home/sindroye/tdt17-miniProject/src/../data/RevisedPolesY11/test/images/combined_image_921_png.rf.e97f9ec455696e9c35505f813fcea3af.jpg: 128x1024 2 poles, 2.2ms\n",
      "image 438/450 /cluster/home/sindroye/tdt17-miniProject/src/../data/RevisedPolesY11/test/images/combined_image_929_png.rf.774a34f2b0d67eb308fc4da02e405f4d.jpg: 128x1024 3 poles, 2.2ms\n",
      "image 439/450 /cluster/home/sindroye/tdt17-miniProject/src/../data/RevisedPolesY11/test/images/combined_image_930_png.rf.ff2fcba5e31340334fcdf04adeb6db5b.jpg: 128x1024 3 poles, 2.2ms\n",
      "image 440/450 /cluster/home/sindroye/tdt17-miniProject/src/../data/RevisedPolesY11/test/images/combined_image_933_png.rf.202535d2c40db4e07ea12d6599df3cf6.jpg: 128x1024 4 poles, 2.2ms\n",
      "image 441/450 /cluster/home/sindroye/tdt17-miniProject/src/../data/RevisedPolesY11/test/images/combined_image_937_png.rf.7d9894014fff06683a9065f65fa4c55a.jpg: 128x1024 3 poles, 2.2ms\n",
      "image 442/450 /cluster/home/sindroye/tdt17-miniProject/src/../data/RevisedPolesY11/test/images/combined_image_940_png.rf.a00f810318e683fb41a1ee808aeb53b6.jpg: 128x1024 2 poles, 2.2ms\n",
      "image 443/450 /cluster/home/sindroye/tdt17-miniProject/src/../data/RevisedPolesY11/test/images/combined_image_941_png.rf.62274db6f4967e038aaf024ef8114db4.jpg: 128x1024 4 poles, 2.2ms\n",
      "image 444/450 /cluster/home/sindroye/tdt17-miniProject/src/../data/RevisedPolesY11/test/images/combined_image_946_png.rf.7d89703b7d5ff5ffbf3e89a5ade33f10.jpg: 128x1024 2 poles, 2.2ms\n",
      "image 445/450 /cluster/home/sindroye/tdt17-miniProject/src/../data/RevisedPolesY11/test/images/combined_image_95_png.rf.4a7529797710cf43dc01d9cae9ac4b0f.jpg: 128x1024 1 pole, 2.2ms\n",
      "image 446/450 /cluster/home/sindroye/tdt17-miniProject/src/../data/RevisedPolesY11/test/images/combined_image_96_png.rf.fc3591e525c1066cc77964dc56a47299.jpg: 128x1024 2 poles, 2.2ms\n",
      "image 447/450 /cluster/home/sindroye/tdt17-miniProject/src/../data/RevisedPolesY11/test/images/combined_image_975_png.rf.c3a23fd377fb4e2b2e88400e24cce329.jpg: 128x1024 1 pole, 2.2ms\n",
      "image 448/450 /cluster/home/sindroye/tdt17-miniProject/src/../data/RevisedPolesY11/test/images/combined_image_977_png.rf.c5f3053e13600d351f6be75e1b9757a5.jpg: 128x1024 1 pole, 2.2ms\n",
      "image 449/450 /cluster/home/sindroye/tdt17-miniProject/src/../data/RevisedPolesY11/test/images/combined_image_987_png.rf.46920c8e2410288b85c6108e6e0da78b.jpg: 128x1024 3 poles, 9.1ms\n",
      "image 450/450 /cluster/home/sindroye/tdt17-miniProject/src/../data/RevisedPolesY11/test/images/combined_image_996_png.rf.bae545854cd0234d29ae9c2d1601591d.jpg: 128x1024 1 pole, 9.1ms\n",
      "Speed: 0.7ms preprocess, 2.3ms inference, 9.4ms postprocess per image at shape (16, 3, 128, 1024)\n"
     ]
    }
   ],
   "source": [
    "# Predict with the model\n",
    "images = os.path.join(new_test, \"images\")\n",
    "results = model(images, imgsz=1024, batch=16, conf=0.25, iou=0.6)\n",
    "results_folder = os.path.join(\"..\", \"runs\", \"prediction_results\")\n",
    "\n",
    "# Process results list\n",
    "count = 1\n",
    "for result in results:\n",
    "    boxes = result.boxes  # Boxes object for bounding box outputs\n",
    "    masks = result.masks  # Masks object for segmentation masks outputs\n",
    "    keypoints = result.keypoints  # Keypoints object for pose outputs\n",
    "    probs = result.probs  # Probs object for classification outputs\n",
    "    obb = result.obb  # Oriented boxes object for OBB outputs\n",
    "    result.show()  # display to screen\n",
    "    result.save(filename=os.path.join(results_folder, f\"result{count}.jpg\"))  # save to disk\n",
    "    count += 1"
   ]
  },
  {
   "cell_type": "markdown",
   "metadata": {},
   "source": []
  },
  {
   "cell_type": "markdown",
   "metadata": {},
   "source": []
  },
  {
   "cell_type": "markdown",
   "metadata": {},
   "source": []
  },
  {
   "cell_type": "markdown",
   "metadata": {},
   "source": [
    "---\n",
    "## 6 Deployment Feasibility"
   ]
  },
  {
   "cell_type": "markdown",
   "metadata": {},
   "source": []
  },
  {
   "cell_type": "markdown",
   "metadata": {},
   "source": [
    "--- \n",
    "## 7 Discussion and Conclusion"
   ]
  },
  {
   "cell_type": "markdown",
   "metadata": {},
   "source": [
    "### 7.1 Sustainability"
   ]
  },
  {
   "cell_type": "markdown",
   "metadata": {},
   "source": []
  },
  {
   "cell_type": "markdown",
   "metadata": {},
   "source": [
    "---\n",
    "## References\n",
    "\n"
   ]
  },
  {
   "cell_type": "markdown",
   "metadata": {},
   "source": [
    "[0] Bavirisetti, Durga Prasad, Gabriel Hanssen Kiss, and Frank Lindseth. “A Pole Detection and Geospatial Localization Framework Using LiDAR-GNSS Data Fusion.” FUSION 2024 - 27th International Conference on Information Fusion, 2024. https://doi.org/10.23919/FUSION59988.2024.10706275.\n"
   ]
  },
  {
   "cell_type": "markdown",
   "metadata": {},
   "source": []
  }
 ],
 "metadata": {
  "kernelspec": {
   "display_name": ".env",
   "language": "python",
   "name": "python3"
  },
  "language_info": {
   "codemirror_mode": {
    "name": "ipython",
    "version": 3
   },
   "file_extension": ".py",
   "mimetype": "text/x-python",
   "name": "python",
   "nbconvert_exporter": "python",
   "pygments_lexer": "ipython3",
   "version": "3.9.18"
  }
 },
 "nbformat": 4,
 "nbformat_minor": 2
}
